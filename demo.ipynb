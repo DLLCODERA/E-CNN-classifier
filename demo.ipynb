{
 "cells": [
  {
   "cell_type": "markdown",
   "metadata": {
    "id": "my3bB6Xl6qaH"
   },
   "source": [
    "This is a demo based on the FitNet-4 classifier for probablistic and evidential classification, which can be run on the google colab.\n",
    "\n",
    "Please check two points before running the demo:\n",
    "1. Use GPU or TPU in Google colab to improve the running speed as:\n",
    "edit >> Notebook setting >> Hardware accelerator >> Select GPU or TPU >> Save.\n",
    "\n",
    "2. Check the versions of the used libs, especially TensorFlow. The required versions of these libs can be found in the readme file."
   ]
  },
  {
   "cell_type": "markdown",
   "metadata": {
    "id": "thiYhNDH66eP"
   },
   "source": [
    "The first step is to import the pre-requisite libs as below.\n",
    "The required versions of these libs can be found in the readme file."
   ]
  },
  {
   "cell_type": "code",
   "execution_count": 1,
   "metadata": {
    "colab": {
     "base_uri": "https://localhost:8080/"
    },
    "executionInfo": {
     "elapsed": 1918,
     "status": "ok",
     "timestamp": 1617949833328,
     "user": {
      "displayName": "童峥",
      "photoUrl": "",
      "userId": "08916676345838244430"
     },
     "user_tz": -120
    },
    "id": "d6Nwj3IC5nst",
    "outputId": "47379197-da70-4c4b-9739-e84e534e8000"
   },
   "outputs": [
    {
     "name": "stdout",
     "output_type": "stream",
     "text": [
      "Drive already mounted at /content/gdrive; to attempt to forcibly remount, call drive.mount(\"/content/gdrive\", force_remount=True).\n"
     ]
    }
   ],
   "source": [
    "import tensorflow as tf\n",
    "import sys\n",
    "from tensorflow import keras\n",
    "from tensorflow.keras import layers\n",
    "from tensorflow.keras.datasets import cifar10\n",
    "from keras.utils import np_utils\n",
    "from keras.callbacks import ModelCheckpoint\n",
    "from tensorflow.keras.preprocessing.image import ImageDataGenerator\n",
    "\n",
    "from google.colab import drive\n",
    "drive.mount('/content/gdrive')\n",
    "sys.path.append('/content/gdrive/My Drive/cifar10_evidential/libs')\n",
    "import ds_layer #Dempster-Shafer layer\n",
    "import utility_layer_train #Utility layer for training\n",
    "import utility_layer_test #Utility layer for training\n",
    "import AU_imprecision #Metric average utility for set-valued classification\n",
    "\n",
    "from scipy.optimize import minimize\n",
    "import math\n",
    "import numpy as np"
   ]
  },
  {
   "cell_type": "markdown",
   "metadata": {
    "id": "mvSPrEFn7k1Z"
   },
   "source": [
    "Let's get and pre-process the CIFAR-10 database."
   ]
  },
  {
   "cell_type": "code",
   "execution_count": 2,
   "metadata": {
    "executionInfo": {
     "elapsed": 1374,
     "status": "ok",
     "timestamp": 1617949836957,
     "user": {
      "displayName": "童峥",
      "photoUrl": "",
      "userId": "08916676345838244430"
     },
     "user_tz": -120
    },
    "id": "oOw9XlJW6olk"
   },
   "outputs": [],
   "source": [
    "(x_train, y_train), (x_test, y_test) = cifar10.load_data()\n",
    "x_train=x_train.astype(\"float32\") / 255.0\n",
    "x_test=x_test.astype(\"float32\") / 255.0\n",
    "y_train_label = y_train\n",
    "y_test_label = y_test\n",
    "y_train = np_utils.to_categorical(y_train)\n",
    "y_test = np_utils.to_categorical(y_test)"
   ]
  },
  {
   "cell_type": "markdown",
   "metadata": {
    "id": "7mT4kY4K7vCG"
   },
   "source": [
    "Let's build a probablistic FitNet-4 classifier.\n",
    "\n",
    "In the demo, we use the fixed learning rate and do not introduce data augmentation as well as some other technologies because the demo just try to show the difference between evidential and proabilistic FitNet-4 classifiers. If users wish to achieve the resutls reported in the papers ('Fitnets: Hints for thin deep nets' and 'All you need is a good init'), please refer their hyper-parameters."
   ]
  },
  {
   "cell_type": "code",
   "execution_count": 3,
   "metadata": {
    "colab": {
     "base_uri": "https://localhost:8080/"
    },
    "executionInfo": {
     "elapsed": 1392,
     "status": "ok",
     "timestamp": 1617949840182,
     "user": {
      "displayName": "童峥",
      "photoUrl": "",
      "userId": "08916676345838244430"
     },
     "user_tz": -120
    },
    "id": "p7zhRG6R7433",
    "outputId": "f0f265e4-35e5-4a7f-a06d-c14e23cdcf8f"
   },
   "outputs": [
    {
     "name": "stdout",
     "output_type": "stream",
     "text": [
      "Model: \"model\"\n",
      "_________________________________________________________________\n",
      "Layer (type)                 Output Shape              Param #   \n",
      "=================================================================\n",
      "input_1 (InputLayer)         [(None, 32, 32, 3)]       0         \n",
      "_________________________________________________________________\n",
      "conv2d (Conv2D)              (None, 32, 32, 32)        896       \n",
      "_________________________________________________________________\n",
      "conv2d_1 (Conv2D)            (None, 32, 32, 32)        9248      \n",
      "_________________________________________________________________\n",
      "conv2d_2 (Conv2D)            (None, 32, 32, 32)        9248      \n",
      "_________________________________________________________________\n",
      "conv2d_3 (Conv2D)            (None, 32, 32, 48)        13872     \n",
      "_________________________________________________________________\n",
      "conv2d_4 (Conv2D)            (None, 32, 32, 48)        20784     \n",
      "_________________________________________________________________\n",
      "batch_normalization (BatchNo (None, 32, 32, 48)        192       \n",
      "_________________________________________________________________\n",
      "max_pooling2d (MaxPooling2D) (None, 16, 16, 48)        0         \n",
      "_________________________________________________________________\n",
      "dropout (Dropout)            (None, 16, 16, 48)        0         \n",
      "_________________________________________________________________\n",
      "conv2d_5 (Conv2D)            (None, 16, 16, 80)        34640     \n",
      "_________________________________________________________________\n",
      "conv2d_6 (Conv2D)            (None, 16, 16, 80)        57680     \n",
      "_________________________________________________________________\n",
      "conv2d_7 (Conv2D)            (None, 16, 16, 80)        57680     \n",
      "_________________________________________________________________\n",
      "conv2d_8 (Conv2D)            (None, 16, 16, 80)        57680     \n",
      "_________________________________________________________________\n",
      "conv2d_9 (Conv2D)            (None, 16, 16, 80)        57680     \n",
      "_________________________________________________________________\n",
      "batch_normalization_1 (Batch (None, 16, 16, 80)        320       \n",
      "_________________________________________________________________\n",
      "max_pooling2d_1 (MaxPooling2 (None, 8, 8, 80)          0         \n",
      "_________________________________________________________________\n",
      "dropout_1 (Dropout)          (None, 8, 8, 80)          0         \n",
      "_________________________________________________________________\n",
      "conv2d_10 (Conv2D)           (None, 8, 8, 128)         92288     \n",
      "_________________________________________________________________\n",
      "conv2d_11 (Conv2D)           (None, 8, 8, 128)         147584    \n",
      "_________________________________________________________________\n",
      "conv2d_12 (Conv2D)           (None, 8, 8, 128)         147584    \n",
      "_________________________________________________________________\n",
      "conv2d_13 (Conv2D)           (None, 8, 8, 128)         147584    \n",
      "_________________________________________________________________\n",
      "conv2d_14 (Conv2D)           (None, 8, 8, 128)         147584    \n",
      "_________________________________________________________________\n",
      "batch_normalization_2 (Batch (None, 8, 8, 128)         512       \n",
      "_________________________________________________________________\n",
      "max_pooling2d_2 (MaxPooling2 (None, 1, 1, 128)         0         \n",
      "_________________________________________________________________\n",
      "dropout_2 (Dropout)          (None, 1, 1, 128)         0         \n",
      "_________________________________________________________________\n",
      "flatten (Flatten)            (None, 128)               0         \n",
      "_________________________________________________________________\n",
      "dense (Dense)                (None, 10)                1290      \n",
      "=================================================================\n",
      "Total params: 1,004,346\n",
      "Trainable params: 1,003,834\n",
      "Non-trainable params: 512\n",
      "_________________________________________________________________\n"
     ]
    }
   ],
   "source": [
    "IMG_WIDTH = 32\n",
    "IMG_HEIGHT = 32\n",
    "IMG_CHANNELS = 3\n",
    "num_class=10\n",
    "\n",
    "inputs = tf.keras.layers.Input((IMG_HEIGHT, IMG_WIDTH, IMG_CHANNELS))\n",
    "\n",
    "c1_1 = tf.keras.layers.Conv2D(32, (3, 3), activation='relu', kernel_initializer='he_normal', padding='same')(inputs)\n",
    "c1_2 = tf.keras.layers.Conv2D(32, (3, 3), activation='relu', kernel_initializer='he_normal', padding='same')(c1_1)\n",
    "c1_3 = tf.keras.layers.Conv2D(32, (3, 3), activation='relu', kernel_initializer='he_normal', padding='same')(c1_2)\n",
    "c1_4 = tf.keras.layers.Conv2D(48, (3, 3), activation='relu', kernel_initializer='he_normal', padding='same')(c1_3)\n",
    "c1_5 = tf.keras.layers.Conv2D(48, (3, 3), activation='relu', kernel_initializer='he_normal', padding='same')(c1_4)\n",
    "bt1 = tf.keras.layers.BatchNormalization()(c1_5)\n",
    "p1 = tf.keras.layers.MaxPooling2D((2, 2))(bt1)\n",
    "dr1 = tf.keras.layers.Dropout(0.5)(p1)\n",
    "\n",
    "\n",
    "c2_1 = tf.keras.layers.Conv2D(80, (3, 3), activation='relu', kernel_initializer='he_normal', padding='same')(dr1)\n",
    "c2_2 = tf.keras.layers.Conv2D(80, (3, 3), activation='relu', kernel_initializer='he_normal', padding='same')(c2_1)\n",
    "c2_3 = tf.keras.layers.Conv2D(80, (3, 3), activation='relu', kernel_initializer='he_normal', padding='same')(c2_2)\n",
    "c2_4 = tf.keras.layers.Conv2D(80, (3, 3), activation='relu', kernel_initializer='he_normal', padding='same')(c2_3)\n",
    "c2_5 = tf.keras.layers.Conv2D(80, (3, 3), activation='relu', kernel_initializer='he_normal', padding='same')(c2_4)\n",
    "bt2 = tf.keras.layers.BatchNormalization()(c2_5)\n",
    "p2 = tf.keras.layers.MaxPooling2D((2, 2))(bt2)\n",
    "dr2 = tf.keras.layers.Dropout(0.5)(p2)\n",
    "\n",
    "c3_1 = tf.keras.layers.Conv2D(128, (3, 3), activation='relu', kernel_initializer='he_normal', padding='same')(dr2)\n",
    "c3_2 = tf.keras.layers.Conv2D(128, (3, 3), activation='relu', kernel_initializer='he_normal', padding='same')(c3_1)\n",
    "c3_3 = tf.keras.layers.Conv2D(128, (3, 3), activation='relu', kernel_initializer='he_normal', padding='same')(c3_2)\n",
    "c3_4 = tf.keras.layers.Conv2D(128, (3, 3), activation='relu', kernel_initializer='he_normal', padding='same')(c3_3)\n",
    "c3_5 = tf.keras.layers.Conv2D(128, (3, 3), activation='relu', kernel_initializer='he_normal', padding='same')(c3_4)\n",
    "bt3 = tf.keras.layers.BatchNormalization()(c3_5)\n",
    "p3 = tf.keras.layers.MaxPooling2D((8, 8))(bt3)\n",
    "dr3 = tf.keras.layers.Dropout(0.5)(p3)\n",
    "\n",
    "flatten1=tf.keras.layers.Flatten()(dr3)\n",
    "\n",
    "outputs = tf.keras.layers.Dense(num_class, activation='softmax')(flatten1)\n",
    "\n",
    "model_p = tf.keras.Model(inputs=[inputs], outputs=[outputs])\n",
    "model_p.compile(optimizer=keras.optimizers.Nadam(lr=0.001, beta_1=0.9, beta_2=0.999, epsilon=None, schedule_decay=0.004), #lr=0.005\n",
    "              loss='CategoricalCrossentropy',\n",
    "              metrics=['accuracy'])\n",
    "model_p.summary()"
   ]
  },
  {
   "cell_type": "markdown",
   "metadata": {
    "id": "B5vAvprB-Mg3"
   },
   "source": [
    "Let's train the probabilistic FitNet classifier.\n",
    "\n",
    "In the demo, the weights will be saved if the validation average utility is  improved after one epoch.\n",
    "\n",
    "As mentioned in our paper, when only considering the precise classification during training, the average utility equals to the average accuracy.\n",
    "\n",
    "Users is suggested to stop training when the training accuracy is close to 1. The authors also provide the weights of the model in the model zoo, users can directly load it in the next cell, instead of strating with pre-training."
   ]
  },
  {
   "cell_type": "code",
   "execution_count": null,
   "metadata": {
    "id": "sBaxcsf09pIX"
   },
   "outputs": [],
   "source": [
    "filepath = ''#please define our own filepath to save the weights of the probabilistic FitNet-4 classifier\n",
    "checkpoint_callback = ModelCheckpoint(\n",
    "    filepath, monitor='val_accuracy', verbose=1,\n",
    "    save_best_only=True, save_weights_only=True,\n",
    "    save_frequency=1)\n",
    "\n",
    "model_p.fit(x_train, y_train, batch_size=25, epochs=200, verbose=1, callbacks=[checkpoint_callback], validation_data=(x_test, y_test), shuffle=True)"
   ]
  },
  {
   "cell_type": "code",
   "execution_count": 4,
   "metadata": {
    "colab": {
     "base_uri": "https://localhost:8080/"
    },
    "executionInfo": {
     "elapsed": 14213,
     "status": "ok",
     "timestamp": 1617949858592,
     "user": {
      "displayName": "童峥",
      "photoUrl": "",
      "userId": "08916676345838244430"
     },
     "user_tz": -120
    },
    "id": "2UMtyaI9_bdb",
    "outputId": "3d4fb5e6-f4d2-4541-d8e9-97c2caa18318"
   },
   "outputs": [
    {
     "name": "stdout",
     "output_type": "stream",
     "text": [
      "2000/2000 [==============================] - 10s 3ms/step - loss: 0.0021 - accuracy: 0.9993\n",
      "400/400 [==============================] - 1s 3ms/step - loss: 0.8291 - accuracy: 0.8708\n"
     ]
    },
    {
     "data": {
      "text/plain": [
       "[0.8290520310401917, 0.8708000183105469]"
      ]
     },
     "execution_count": 4,
     "metadata": {
      "tags": []
     },
     "output_type": "execute_result"
    }
   ],
   "source": [
    "model_p.load_weights('/content/gdrive/My Drive/cifar10_evidential/weights_zoo/cnn_checkpoint_final')# replace the path with your own\n",
    "model_p.evaluate(x_train, y_train, batch_size=25, verbose=1)\n",
    "model_p.evaluate(x_test, y_test, batch_size=25, verbose=1)"
   ]
  },
  {
   "cell_type": "markdown",
   "metadata": {
    "id": "JmpYviSsc3-Q"
   },
   "source": [
    "Let's build an evidential FitNet-4 classifier.\n",
    "\n",
    "Compared to the probabilistic one, the evidential classifier has the extra hyper-parameters: the number of prototypes and pessimism index \\nu (if use generalized Hurwicz decision criterion). The classifier has 200 prototypes and uses the generalized Hurwicz decision criterion with \\nu=0.9. The two hyper-parameters can be tuned using a validation set or by cross-validation.\n",
    "\n",
    "We also provide the utility layer based on Pignistic criterion, please find the details in utility_layer_train.py.\n",
    "\n",
    "In the demo, we use the fixed learning rate and do not introduce data augmentation as well as some other technologies because the demo just try to show the difference between evidential and proabilistic FitNet-4 classifiers. If users wish to achieve the resutls reported in the paper ('Fitnets: Hints for thin deep nets' and 'All you need is a good init'), please refer their hyper-parameters."
   ]
  },
  {
   "cell_type": "code",
   "execution_count": 6,
   "metadata": {
    "colab": {
     "base_uri": "https://localhost:8080/"
    },
    "executionInfo": {
     "elapsed": 5487,
     "status": "ok",
     "timestamp": 1617949960789,
     "user": {
      "displayName": "童峥",
      "photoUrl": "",
      "userId": "08916676345838244430"
     },
     "user_tz": -120
    },
    "id": "bErpieRJFhKI",
    "outputId": "e5e9f0d9-b726-4d04-a8be-6b50df29bae2"
   },
   "outputs": [
    {
     "name": "stdout",
     "output_type": "stream",
     "text": [
      "Model: \"model_2\"\n",
      "_________________________________________________________________\n",
      "Layer (type)                 Output Shape              Param #   \n",
      "=================================================================\n",
      "input_3 (InputLayer)         [(None, 32, 32, 3)]       0         \n",
      "_________________________________________________________________\n",
      "conv2d_30 (Conv2D)           (None, 32, 32, 32)        896       \n",
      "_________________________________________________________________\n",
      "conv2d_31 (Conv2D)           (None, 32, 32, 32)        9248      \n",
      "_________________________________________________________________\n",
      "conv2d_32 (Conv2D)           (None, 32, 32, 32)        9248      \n",
      "_________________________________________________________________\n",
      "conv2d_33 (Conv2D)           (None, 32, 32, 48)        13872     \n",
      "_________________________________________________________________\n",
      "conv2d_34 (Conv2D)           (None, 32, 32, 48)        20784     \n",
      "_________________________________________________________________\n",
      "batch_normalization_6 (Batch (None, 32, 32, 48)        192       \n",
      "_________________________________________________________________\n",
      "max_pooling2d_6 (MaxPooling2 (None, 16, 16, 48)        0         \n",
      "_________________________________________________________________\n",
      "dropout_6 (Dropout)          (None, 16, 16, 48)        0         \n",
      "_________________________________________________________________\n",
      "conv2d_35 (Conv2D)           (None, 16, 16, 80)        34640     \n",
      "_________________________________________________________________\n",
      "conv2d_36 (Conv2D)           (None, 16, 16, 80)        57680     \n",
      "_________________________________________________________________\n",
      "conv2d_37 (Conv2D)           (None, 16, 16, 80)        57680     \n",
      "_________________________________________________________________\n",
      "conv2d_38 (Conv2D)           (None, 16, 16, 80)        57680     \n",
      "_________________________________________________________________\n",
      "conv2d_39 (Conv2D)           (None, 16, 16, 80)        57680     \n",
      "_________________________________________________________________\n",
      "batch_normalization_7 (Batch (None, 16, 16, 80)        320       \n",
      "_________________________________________________________________\n",
      "max_pooling2d_7 (MaxPooling2 (None, 8, 8, 80)          0         \n",
      "_________________________________________________________________\n",
      "dropout_7 (Dropout)          (None, 8, 8, 80)          0         \n",
      "_________________________________________________________________\n",
      "conv2d_40 (Conv2D)           (None, 8, 8, 128)         92288     \n",
      "_________________________________________________________________\n",
      "conv2d_41 (Conv2D)           (None, 8, 8, 128)         147584    \n",
      "_________________________________________________________________\n",
      "conv2d_42 (Conv2D)           (None, 8, 8, 128)         147584    \n",
      "_________________________________________________________________\n",
      "conv2d_43 (Conv2D)           (None, 8, 8, 128)         147584    \n",
      "_________________________________________________________________\n",
      "conv2d_44 (Conv2D)           (None, 8, 8, 128)         147584    \n",
      "_________________________________________________________________\n",
      "batch_normalization_8 (Batch (None, 8, 8, 128)         512       \n",
      "_________________________________________________________________\n",
      "max_pooling2d_8 (MaxPooling2 (None, 1, 1, 128)         0         \n",
      "_________________________________________________________________\n",
      "dropout_8 (Dropout)          (None, 1, 1, 128)         0         \n",
      "_________________________________________________________________\n",
      "flatten_2 (Flatten)          (None, 128)               0         \n",
      "_________________________________________________________________\n",
      "d_s1_1 (DS1)                 (None, 200)               25600     \n",
      "_________________________________________________________________\n",
      "d_s1_activate_1 (DS1_activat (None, 200)               400       \n",
      "_________________________________________________________________\n",
      "d_s2_1 (DS2)                 (None, 200, 10)           2000      \n",
      "_________________________________________________________________\n",
      "d_s2_omega_1 (DS2_omega)     (None, 200, 11)           0         \n",
      "_________________________________________________________________\n",
      "d_s3__dempster_1 (DS3_Dempst (None, 11)                0         \n",
      "_________________________________________________________________\n",
      "d_s3_normalize_1 (DS3_normal (None, 11)                0         \n",
      "_________________________________________________________________\n",
      "dm_1 (DM)                    (None, 10)                0         \n",
      "=================================================================\n",
      "Total params: 1,031,056\n",
      "Trainable params: 1,030,544\n",
      "Non-trainable params: 512\n",
      "_________________________________________________________________\n"
     ]
    }
   ],
   "source": [
    "IMG_WIDTH = 32\n",
    "IMG_HEIGHT = 32\n",
    "IMG_CHANNELS = 3\n",
    "inputs_pixels = IMG_WIDTH * IMG_HEIGHT\n",
    "prototypes=200\n",
    "num_class=10\n",
    "\n",
    "inputs = tf.keras.layers.Input((IMG_HEIGHT, IMG_WIDTH, IMG_CHANNELS))\n",
    "\n",
    "#convolution stages\n",
    "c1_1 = tf.keras.layers.Conv2D(32, (3, 3), activation='relu', kernel_initializer='he_normal', padding='same')(inputs)\n",
    "c1_2 = tf.keras.layers.Conv2D(32, (3, 3), activation='relu', kernel_initializer='he_normal', padding='same')(c1_1)\n",
    "c1_3 = tf.keras.layers.Conv2D(32, (3, 3), activation='relu', kernel_initializer='he_normal', padding='same')(c1_2)\n",
    "c1_4 = tf.keras.layers.Conv2D(48, (3, 3), activation='relu', kernel_initializer='he_normal', padding='same')(c1_3)\n",
    "c1_5 = tf.keras.layers.Conv2D(48, (3, 3), activation='relu', kernel_initializer='he_normal', padding='same')(c1_4)\n",
    "bt1 = tf.keras.layers.BatchNormalization()(c1_5)\n",
    "p1 = tf.keras.layers.MaxPooling2D((2, 2))(bt1)\n",
    "dr1 = tf.keras.layers.Dropout(0.5)(p1)\n",
    "\n",
    "\n",
    "c2_1 = tf.keras.layers.Conv2D(80, (3, 3), activation='relu', kernel_initializer='he_normal', padding='same')(dr1)\n",
    "c2_2 = tf.keras.layers.Conv2D(80, (3, 3), activation='relu', kernel_initializer='he_normal', padding='same')(c2_1)\n",
    "c2_3 = tf.keras.layers.Conv2D(80, (3, 3), activation='relu', kernel_initializer='he_normal', padding='same')(c2_2)\n",
    "c2_4 = tf.keras.layers.Conv2D(80, (3, 3), activation='relu', kernel_initializer='he_normal', padding='same')(c2_3)\n",
    "c2_5 = tf.keras.layers.Conv2D(80, (3, 3), activation='relu', kernel_initializer='he_normal', padding='same')(c2_4)\n",
    "bt2 = tf.keras.layers.BatchNormalization()(c2_5)\n",
    "p2 = tf.keras.layers.MaxPooling2D((2, 2))(bt2)\n",
    "dr2 = tf.keras.layers.Dropout(0.5)(p2)\n",
    "\n",
    "c3_1 = tf.keras.layers.Conv2D(128, (3, 3), activation='relu', kernel_initializer='he_normal', padding='same')(dr2)\n",
    "c3_2 = tf.keras.layers.Conv2D(128, (3, 3), activation='relu', kernel_initializer='he_normal', padding='same')(c3_1)\n",
    "c3_3 = tf.keras.layers.Conv2D(128, (3, 3), activation='relu', kernel_initializer='he_normal', padding='same')(c3_2)\n",
    "c3_4 = tf.keras.layers.Conv2D(128, (3, 3), activation='relu', kernel_initializer='he_normal', padding='same')(c3_3)\n",
    "c3_5 = tf.keras.layers.Conv2D(128, (3, 3), activation='relu', kernel_initializer='he_normal', padding='same')(c3_4)\n",
    "bt3 = tf.keras.layers.BatchNormalization()(c3_5)\n",
    "p3 = tf.keras.layers.MaxPooling2D((8, 8))(bt3)\n",
    "dr3 = tf.keras.layers.Dropout(0.5)(p3)\n",
    "flatten1=tf.keras.layers.Flatten()(dr3)\n",
    "\n",
    "#DS layer\n",
    "ED = ds_layer.DS1(prototypes,128)(flatten1)\n",
    "ED_ac = ds_layer.DS1_activate(prototypes)(ED)\n",
    "mass_prototypes = ds_layer.DS2(prototypes, num_class)(ED_ac)\n",
    "mass_prototypes_omega = ds_layer.DS2_omega(prototypes, num_class)(mass_prototypes)\n",
    "mass_Dempster = ds_layer.DS3_Dempster(prototypes, num_class)(mass_prototypes_omega)\n",
    "mass_Dempster_normalize = ds_layer.DS3_normalize()(mass_Dempster)\n",
    "\n",
    "#Utility layer for training\n",
    "outputs = utility_layer_train.DM(0.9, num_class)(mass_Dempster_normalize)\n",
    "\n",
    "\n",
    "model_e = tf.keras.Model(inputs=[inputs], outputs=[outputs])\n",
    "model_e.compile(optimizer=keras.optimizers.Nadam(lr=0.001, beta_1=0.9, beta_2=0.999, epsilon=None, schedule_decay=0.004), \n",
    "              loss='CategoricalCrossentropy',\n",
    "              metrics=['accuracy'])\n",
    "model_e.summary()"
   ]
  },
  {
   "cell_type": "markdown",
   "metadata": {
    "id": "klyUQT3zRddd"
   },
   "source": [
    "The training beginning with the pre-train as shown in the next cell is time consuming and slow. The authors suggests users directly use the weights from probabilistic CNN classifier and then fine-tune the golable weights in the evidential CNN classifier as shown in the next next cell. If a user want to just use the well-trained classifier, please see the next next next cell."
   ]
  },
  {
   "cell_type": "code",
   "execution_count": null,
   "metadata": {
    "id": "MSl0dIMCJ8eW"
   },
   "outputs": [],
   "source": [
    "filepath = ''#define our own path to save the weights of the probabilistic FitNet-4 classifier\n",
    "checkpoint_callback = ModelCheckpoint(\n",
    "    filepath, monitor='val_accuracy', verbose=1,\n",
    "    save_best_only=True, save_weights_only=True,\n",
    "    save_frequency=1)\n",
    "model_e.fit(x_train, y_train, batch_size=25,  epochs=100, verbose=1, validation_data=(x_test, y_test), callbacks=[checkpoint_callback], shuffle=True)"
   ]
  },
  {
   "cell_type": "code",
   "execution_count": null,
   "metadata": {
    "id": "vzeiyp0LSV50"
   },
   "outputs": [],
   "source": [
    "filepath = ''#define our own path to save the weights of the probabilistic FitNet-4 classifier\n",
    "checkpoint_callback = ModelCheckpoint(\n",
    "    filepath, monitor='val_accuracy', verbose=1,\n",
    "    save_best_only=True, save_weights_only=True,\n",
    "    save_frequency=1)\n",
    "model_e.load_weights('/content/gdrive/My Drive/cifar10_evidential/weights_zoo/cnn_checkpoint_final')\n",
    "model_e.fit(x_train, y_train, batch_size=25,  epochs=100, verbose=1, validation_data=(x_test, y_test), callbacks=[checkpoint_callback], shuffle=True)"
   ]
  },
  {
   "cell_type": "markdown",
   "metadata": {
    "id": "__27YVALGBUE"
   },
   "source": [
    "After training, the average utility of evidential classifier is slightly higer than the one of probablisitic classifier."
   ]
  },
  {
   "cell_type": "code",
   "execution_count": 7,
   "metadata": {
    "colab": {
     "base_uri": "https://localhost:8080/"
    },
    "executionInfo": {
     "elapsed": 59359,
     "status": "ok",
     "timestamp": 1617950026045,
     "user": {
      "displayName": "童峥",
      "photoUrl": "",
      "userId": "08916676345838244430"
     },
     "user_tz": -120
    },
    "id": "VGE_fgbWK6bq",
    "outputId": "aa0a6695-c29e-49db-cac9-49c993d400fd"
   },
   "outputs": [
    {
     "name": "stdout",
     "output_type": "stream",
     "text": [
      "WARNING:tensorflow:Inconsistent references when loading the checkpoint into this object graph. Either the Trackable object references in the Python program have changed in an incompatible way, or the checkpoint was generated in an incompatible program.\n",
      "\n",
      "Two checkpoint references resolved to different objects (<ds_layer.DS2 object at 0x7f0aa3c47210> and <ds_layer.DS3_normalize object at 0x7f0aa3b8d710>).\n",
      "2000/2000 [==============================] - 51s 19ms/step - loss: 0.0631 - accuracy: 0.9970\n",
      "400/400 [==============================] - 8s 19ms/step - loss: 0.6747 - accuracy: 0.8757\n"
     ]
    },
    {
     "data": {
      "text/plain": [
       "[0.6746578216552734, 0.8756999969482422]"
      ]
     },
     "execution_count": 7,
     "metadata": {
      "tags": []
     },
     "output_type": "execute_result"
    }
   ],
   "source": [
    "model_e.load_weights('/content/gdrive/My Drive/cifar10_evidential/weights_zoo/evidential_DL_200_checkpoint')\n",
    "model_e.evaluate(x_train, y_train, batch_size=25, verbose=1)\n",
    "model_e.evaluate(x_test, y_test, batch_size=25, verbose=1)"
   ]
  },
  {
   "cell_type": "markdown",
   "metadata": {
    "id": "5BxQv1poGQco"
   },
   "source": [
    "Let's see the set-valued classificaiton of the evidential FitNet-4 classifier. \n",
    "\n",
    "We first generate a utility matrix."
   ]
  },
  {
   "cell_type": "code",
   "execution_count": 8,
   "metadata": {
    "executionInfo": {
     "elapsed": 416,
     "status": "ok",
     "timestamp": 1617950034931,
     "user": {
      "displayName": "童峥",
      "photoUrl": "",
      "userId": "08916676345838244430"
     },
     "user_tz": -120
    },
    "id": "rJW0nKwrGPpG"
   },
   "outputs": [],
   "source": [
    "# aim func: cross entropy\n",
    "def func(x):\n",
    "  fun=0\n",
    "  for i in range(len(x)):\n",
    "    fun += x[i] * math.log10(x[i])\n",
    "  return fun\n",
    "\n",
    "#constraint 1: the sum of weights is 1\n",
    "def cons1(x):\n",
    "  return sum(x)\n",
    "\n",
    "#constraint 2: define tolerance to imprecision\n",
    "def cons2(x):\n",
    "  tol = 0\n",
    "  for i in range(len(x)):\n",
    "    tol += (len(x) -(i+1)) * x[i] / (len(x) - 1)\n",
    "  return tol"
   ]
  },
  {
   "cell_type": "code",
   "execution_count": 9,
   "metadata": {
    "colab": {
     "base_uri": "https://localhost:8080/"
    },
    "executionInfo": {
     "elapsed": 1003,
     "status": "ok",
     "timestamp": 1617950037336,
     "user": {
      "displayName": "童峥",
      "photoUrl": "",
      "userId": "08916676345838244430"
     },
     "user_tz": -120
    },
    "id": "dghicwcvGtAy",
    "outputId": "fcb1fb9d-c8f5-403b-a47b-d88cb64c499d"
   },
   "outputs": [
    {
     "name": "stdout",
     "output_type": "stream",
     "text": [
      "Optimization terminated successfully.    (Exit mode 0)\n",
      "            Current function value: -0.30102999566398125\n",
      "            Iterations: 2\n",
      "            Function evaluations: 8\n",
      "            Gradient evaluations: 2\n",
      "[0.5 0.5]\n",
      "Optimization terminated successfully.    (Exit mode 0)\n",
      "            Current function value: -0.29228525323862886\n",
      "            Iterations: 2\n",
      "            Function evaluations: 8\n",
      "            Gradient evaluations: 2\n",
      "[0.6 0.4]\n",
      "Optimization terminated successfully.    (Exit mode 0)\n",
      "            Current function value: -0.26529499557412145\n",
      "            Iterations: 2\n",
      "            Function evaluations: 8\n",
      "            Gradient evaluations: 2\n",
      "[0.7 0.3]\n",
      "Optimization terminated successfully.    (Exit mode 0)\n",
      "            Current function value: -0.2173220112736488\n",
      "            Iterations: 2\n",
      "            Function evaluations: 8\n",
      "            Gradient evaluations: 2\n",
      "[0.8 0.2]\n",
      "Optimization terminated successfully.    (Exit mode 0)\n",
      "            Current function value: -0.1411817415046075\n",
      "            Iterations: 2\n",
      "            Function evaluations: 8\n",
      "            Gradient evaluations: 2\n",
      "[0.9 0.1]\n",
      "Optimization terminated successfully.    (Exit mode 0)\n",
      "            Current function value: -0.4771212538914884\n",
      "            Iterations: 5\n",
      "            Function evaluations: 25\n",
      "            Gradient evaluations: 5\n",
      "[0.33331878 0.33336245 0.33331878]\n",
      "Optimization terminated successfully.    (Exit mode 0)\n",
      "            Current function value: -0.4639930005634535\n",
      "            Iterations: 5\n",
      "            Function evaluations: 25\n",
      "            Gradient evaluations: 5\n",
      "[0.43833865 0.3233227  0.23833865]\n",
      "Optimization terminated successfully.    (Exit mode 0)\n",
      "            Current function value: -0.4233256092587938\n",
      "            Iterations: 4\n",
      "            Function evaluations: 21\n",
      "            Gradient evaluations: 4\n",
      "[0.55398759 0.29202482 0.15398759]\n",
      "Optimization terminated successfully.    (Exit mode 0)\n",
      "            Current function value: -0.3504192061682251\n",
      "            Iterations: 7\n",
      "            Function evaluations: 37\n",
      "            Gradient evaluations: 7\n",
      "[0.68186243 0.23627514 0.08186243]\n",
      "Optimization terminated successfully.    (Exit mode 0)\n",
      "            Current function value: -0.23258769536074142\n",
      "            Iterations: 6\n",
      "            Function evaluations: 32\n",
      "            Gradient evaluations: 6\n",
      "[0.82626492 0.14747015 0.02626492]\n",
      "Optimization terminated successfully.    (Exit mode 0)\n",
      "            Current function value: -0.6020599894482398\n",
      "            Iterations: 6\n",
      "            Function evaluations: 36\n",
      "            Gradient evaluations: 6\n",
      "[0.24998264 0.25003705 0.24997798 0.25000233]\n",
      "Optimization terminated successfully.    (Exit mode 0)\n",
      "            Current function value: -0.5862954425928175\n",
      "            Iterations: 6\n",
      "            Function evaluations: 36\n",
      "            Gradient evaluations: 6\n",
      "[0.3474345  0.27227685 0.2131428  0.16714585]\n",
      "Optimization terminated successfully.    (Exit mode 0)\n",
      "            Current function value: -0.5373185665379432\n",
      "            Iterations: 6\n",
      "            Function evaluations: 38\n",
      "            Gradient evaluations: 6\n",
      "[0.46142139 0.27550071 0.16473441 0.09834349]\n",
      "Optimization terminated successfully.    (Exit mode 0)\n",
      "            Current function value: -0.4488881332342745\n",
      "            Iterations: 9\n",
      "            Function evaluations: 58\n",
      "            Gradient evaluations: 9\n",
      "[0.59649643 0.252022   0.1064667  0.04501487]\n",
      "Optimization terminated successfully.    (Exit mode 0)\n",
      "            Current function value: -0.3036760597571626\n",
      "            Iterations: 9\n",
      "            Function evaluations: 58\n",
      "            Gradient evaluations: 9\n",
      "[0.76410071 0.182127   0.04344386 0.01032843]\n",
      "Optimization terminated successfully.    (Exit mode 0)\n",
      "            Current function value: -0.6989697453979131\n",
      "            Iterations: 6\n",
      "            Function evaluations: 45\n",
      "            Gradient evaluations: 6\n",
      "[0.2000977  0.20001006 0.19963625 0.20030651 0.19994948]\n",
      "Optimization terminated successfully.    (Exit mode 0)\n",
      "            Current function value: -0.6814446674560098\n",
      "            Iterations: 7\n",
      "            Function evaluations: 51\n",
      "            Gradient evaluations: 7\n",
      "[0.28846053 0.23523793 0.19181224 0.15681962 0.12766968]\n",
      "Optimization terminated successfully.    (Exit mode 0)\n",
      "            Current function value: -0.6268737706211589\n",
      "            Iterations: 7\n",
      "            Function evaluations: 51\n",
      "            Gradient evaluations: 7\n",
      "[0.39608297 0.25749212 0.16725399 0.10868377 0.07048715]\n",
      "Optimization terminated successfully.    (Exit mode 0)\n",
      "            Current function value: -0.5277827060833505\n",
      "            Iterations: 11\n",
      "            Function evaluations: 83\n",
      "            Gradient evaluations: 11\n",
      "[0.53078708 0.2563858  0.12388317 0.05992793 0.02901602]\n",
      "Optimization terminated successfully.    (Exit mode 0)\n",
      "            Current function value: -0.36288912454646727\n",
      "            Iterations: 11\n",
      "            Function evaluations: 84\n",
      "            Gradient evaluations: 11\n",
      "[0.71035636 0.20700678 0.05999226 0.01756972 0.00507488]\n",
      "Optimization terminated successfully.    (Exit mode 0)\n",
      "            Current function value: -0.7781511297189401\n",
      "            Iterations: 7\n",
      "            Function evaluations: 58\n",
      "            Gradient evaluations: 7\n",
      "[0.16651287 0.16679792 0.16670327 0.1666551  0.16682393 0.1665069 ]\n",
      "Optimization terminated successfully.    (Exit mode 0)\n",
      "            Current function value: -0.7593664597919338\n",
      "            Iterations: 8\n",
      "            Function evaluations: 67\n",
      "            Gradient evaluations: 8\n",
      "[0.24666838 0.20737726 0.17396103 0.14617494 0.12291609 0.1029023 ]\n",
      "Optimization terminated successfully.    (Exit mode 0)\n",
      "            Current function value: -0.7007693647890724\n",
      "            Iterations: 8\n",
      "            Function evaluations: 68\n",
      "            Gradient evaluations: 8\n",
      "[0.34747728 0.23977043 0.16547782 0.11416932 0.07875981 0.05434535]\n",
      "Optimization terminated successfully.    (Exit mode 0)\n",
      "            Current function value: -0.5938822749336565\n",
      "            Iterations: 15\n",
      "            Function evaluations: 129\n",
      "            Gradient evaluations: 15\n",
      "[0.47837712 0.25448624 0.13562498 0.07240583 0.03848285 0.02062298]\n",
      "Optimization terminated successfully.    (Exit mode 0)\n",
      "            Current function value: -0.4140323600746165\n",
      "            Iterations: 12\n",
      "            Function evaluations: 108\n",
      "            Gradient evaluations: 12\n",
      "[0.66380159 0.22367517 0.07546024 0.02559101 0.00872862 0.00274337]\n",
      "Optimization terminated successfully.    (Exit mode 0)\n",
      "            Current function value: -0.8450979825368223\n",
      "            Iterations: 11\n",
      "            Function evaluations: 104\n",
      "            Gradient evaluations: 11\n",
      "[0.14285522 0.1427418  0.14293435 0.1429833  0.14281843 0.14283552\n",
      " 0.14283138]\n",
      "Optimization terminated successfully.    (Exit mode 0)\n",
      "            Current function value: -0.8253677827197394\n",
      "            Iterations: 13\n",
      "            Function evaluations: 123\n",
      "            Gradient evaluations: 13\n",
      "[0.21575359 0.18517582 0.15893473 0.1364516  0.11698912 0.10052741\n",
      " 0.08616773]\n",
      "Optimization terminated successfully.    (Exit mode 0)\n",
      "            Current function value: -0.7637324387233319\n",
      "            Iterations: 13\n",
      "            Function evaluations: 125\n",
      "            Gradient evaluations: 13\n",
      "[0.30961922 0.22369697 0.16132914 0.11639209 0.08429352 0.06071996\n",
      " 0.0439491 ]\n",
      "Optimization terminated successfully.    (Exit mode 0)\n",
      "            Current function value: -0.6508873014957556\n",
      "            Iterations: 16\n",
      "            Function evaluations: 153\n",
      "            Gradient evaluations: 16\n",
      "[0.43513563 0.24965526 0.14323178 0.08218722 0.04714743 0.02712628\n",
      " 0.0155164 ]\n",
      "Optimization terminated successfully.    (Exit mode 0)\n",
      "            Current function value: -0.45923448425570584\n",
      "            Iterations: 11\n",
      "            Function evaluations: 115\n",
      "            Gradient evaluations: 11\n",
      "[0.62254457 0.23546039 0.0891047  0.03353229 0.01279996 0.00481503\n",
      " 0.00174306]\n",
      "Optimization terminated successfully.    (Exit mode 0)\n",
      "            Current function value: -0.9030898641956799\n",
      "            Iterations: 14\n",
      "            Function evaluations: 147\n",
      "            Gradient evaluations: 14\n",
      "[0.12496321 0.12497405 0.12494859 0.12500158 0.12522477 0.12498153\n",
      " 0.12502657 0.1248797 ]\n",
      "Optimization terminated successfully.    (Exit mode 0)\n",
      "            Current function value: -0.8826236340765032\n",
      "            Iterations: 17\n",
      "            Function evaluations: 179\n",
      "            Gradient evaluations: 17\n",
      "[0.19178031 0.16737795 0.14608214 0.12750952 0.11124519 0.09714891\n",
      " 0.08478796 0.07406802]\n",
      "Optimization terminated successfully.    (Exit mode 0)\n",
      "            Current function value: -0.8186138864726825\n",
      "            Iterations: 21\n",
      "            Function evaluations: 222\n",
      "            Gradient evaluations: 21\n",
      "[0.27927718 0.20896555 0.15621945 0.11702604 0.08732838 0.06550028\n",
      " 0.04907932 0.0366038 ]\n",
      "Optimization terminated successfully.    (Exit mode 0)\n",
      "            Current function value: -0.7010620433321837\n",
      "            Iterations: 19\n",
      "            Function evaluations: 207\n",
      "            Gradient evaluations: 19\n",
      "[0.39918779 0.24294937 0.14756944 0.08987277 0.0545683  0.03338733\n",
      " 0.02017141 0.01229359]\n",
      "Optimization terminated successfully.    (Exit mode 0)\n",
      "            Current function value: -0.49982495195639776\n",
      "            Iterations: 16\n",
      "            Function evaluations: 181\n",
      "            Gradient evaluations: 16\n",
      "[0.58641881 0.24284009 0.10034202 0.04162354 0.01756689 0.0071348\n",
      " 0.00285329 0.00122056]\n",
      "Optimization terminated successfully.    (Exit mode 0)\n",
      "            Current function value: -0.9542424755884988\n",
      "            Iterations: 19\n",
      "            Function evaluations: 222\n",
      "            Gradient evaluations: 19\n",
      "[0.11110209 0.11117394 0.11112935 0.11101343 0.11109439 0.1111464\n",
      " 0.11111066 0.11108434 0.1111454 ]\n",
      "Optimization terminated successfully.    (Exit mode 0)\n",
      "            Current function value: -0.9331866049001136\n",
      "            Iterations: 19\n",
      "            Function evaluations: 220\n",
      "            Gradient evaluations: 19\n",
      "[0.17255076 0.15283964 0.13521353 0.11922443 0.10571958 0.09349607\n",
      " 0.08284446 0.07325756 0.06485396]\n",
      "Optimization terminated successfully.    (Exit mode 0)\n",
      "            Current function value: -0.8672700344706642\n",
      "            Iterations: 14\n",
      "            Function evaluations: 161\n",
      "            Gradient evaluations: 14\n",
      "[0.2545141  0.19563921 0.15065912 0.11603619 0.08935753 0.06871241\n",
      " 0.05298873 0.04073218 0.03136052]\n",
      "Optimization terminated successfully.    (Exit mode 0)\n",
      "            Current function value: -0.7459043232376047\n",
      "            Iterations: 14\n",
      "            Function evaluations: 163\n",
      "            Gradient evaluations: 14\n",
      "[0.36878965 0.23511697 0.15002044 0.09558405 0.06096507 0.03880533\n",
      " 0.02487241 0.0158     0.01004607]\n",
      "Optimization terminated successfully.    (Exit mode 0)\n",
      "            Current function value: -0.5367122068403425\n",
      "            Iterations: 17\n",
      "            Function evaluations: 211\n",
      "            Gradient evaluations: 17\n",
      "[0.55365207 0.24791059 0.11010161 0.0492473  0.02200609 0.00982077\n",
      " 0.00455698 0.00196256 0.00074203]\n",
      "Optimization terminated successfully.    (Exit mode 0)\n",
      "            Current function value: -0.9999997920850644\n",
      "            Iterations: 8\n",
      "            Function evaluations: 104\n",
      "            Gradient evaluations: 8\n",
      "[0.10008566 0.0998473  0.09995609 0.09999354 0.09998985 0.10023786\n",
      " 0.10001742 0.09995063 0.09994256 0.09997909]\n",
      "Optimization terminated successfully.    (Exit mode 0)\n",
      "            Current function value: -0.978461589828603\n",
      "            Iterations: 14\n",
      "            Function evaluations: 178\n",
      "            Gradient evaluations: 14\n",
      "[0.15703074 0.14027982 0.12550677 0.11225345 0.10053172 0.09008973\n",
      " 0.08025893 0.07211069 0.06440095 0.05753719]\n",
      "Optimization terminated successfully.    (Exit mode 0)\n",
      "            Current function value: -0.9109794538754596\n",
      "            Iterations: 20\n",
      "            Function evaluations: 255\n",
      "            Gradient evaluations: 20\n",
      "[0.23354704 0.18403958 0.14501044 0.11432922 0.09015419 0.07083925\n",
      " 0.05591997 0.04403927 0.03474522 0.02737582]\n",
      "Optimization terminated successfully.    (Exit mode 0)\n",
      "            Current function value: -0.7864587800027756\n",
      "            Iterations: 26\n",
      "            Function evaluations: 341\n",
      "            Gradient evaluations: 26\n",
      "[0.34289421 0.22699676 0.15048542 0.0997429  0.06632622 0.04383039\n",
      " 0.02928063 0.01928081 0.01276655 0.00839611]\n",
      "Optimization terminated successfully.    (Exit mode 0)\n",
      "            Current function value: -0.5705617637866378\n",
      "            Iterations: 22\n",
      "            Function evaluations: 294\n",
      "            Gradient evaluations: 22\n",
      "[0.52493928 0.24972034 0.1184505  0.05638915 0.02686075 0.01264004\n",
      " 0.00608059 0.00292199 0.00134576 0.00065161]\n"
     ]
    }
   ],
   "source": [
    "#compute the weights g for ordered weighted average aggreagtion\n",
    "num_class = 10\n",
    "for j in range(2,(num_class+1)):\n",
    "  num_weights = j\n",
    "  ini_weights = np.asarray(np.random.rand(num_weights))\n",
    "\n",
    "  name='weight'+str(j)\n",
    "  locals()['weight'+str(j)]= np.zeros([5, j])\n",
    "\n",
    "  for i in range(5):\n",
    "    tol = 0.5 + i * 0.1\n",
    "\n",
    "    cons = ({'type': 'eq', 'fun' : lambda x: cons1(x)-1},\n",
    "          {'type': 'eq', 'fun' : lambda x: cons2(x)-tol},\n",
    "          {'type': 'ineq', 'fun' : lambda x: x-0.00000001}\n",
    "        )\n",
    "  \n",
    "    res = minimize(func, ini_weights, method='SLSQP', options={'disp': True}, constraints=cons)\n",
    "    locals()['weight'+str(j)][i] = res.x\n",
    "    print (res.x)"
   ]
  },
  {
   "cell_type": "code",
   "execution_count": 10,
   "metadata": {
    "executionInfo": {
     "elapsed": 416,
     "status": "ok",
     "timestamp": 1617950039315,
     "user": {
      "displayName": "童峥",
      "photoUrl": "",
      "userId": "08916676345838244430"
     },
     "user_tz": -120
    },
    "id": "E7kU8KGfG0PJ"
   },
   "outputs": [],
   "source": [
    "#function for power set\n",
    "def PowerSetsBinary(items):  \n",
    "    #generate all combination of N items  \n",
    "    N = len(items)  \n",
    "    #enumerate the 2**N possible combinations  \n",
    "    set_all=[]\n",
    "    for i in range(2**N):\n",
    "        combo = []  \n",
    "        for j in range(N):  \n",
    "            if(i >> j ) % 2 == 1:  \n",
    "                combo.append(items[j]) \n",
    "        set_all.append(combo)\n",
    "    return set_all"
   ]
  },
  {
   "cell_type": "code",
   "execution_count": 11,
   "metadata": {
    "colab": {
     "base_uri": "https://localhost:8080/"
    },
    "executionInfo": {
     "elapsed": 825,
     "status": "ok",
     "timestamp": 1617950040706,
     "user": {
      "displayName": "童峥",
      "photoUrl": "",
      "userId": "08916676345838244430"
     },
     "user_tz": -120
    },
    "id": "2RwdGN2YG18H",
    "outputId": "0b0f5869-c894-4c79-818f-90c550e989e7"
   },
   "outputs": [
    {
     "name": "stdout",
     "output_type": "stream",
     "text": [
      "[[0], [0, 1], [0, 1, 2], [0, 1, 2, 3], [0, 1, 2, 3, 4], [0, 1, 2, 3, 4, 5], [0, 1, 2, 3, 4, 5, 6], [0, 1, 2, 3, 4, 5, 6, 7], [0, 1, 2, 3, 4, 5, 6, 7, 8], [0, 1, 2, 3, 4, 5, 6, 7, 8, 9], [0, 1, 2, 3, 4, 5, 6, 7, 9], [0, 1, 2, 3, 4, 5, 6, 8], [0, 1, 2, 3, 4, 5, 6, 8, 9], [0, 1, 2, 3, 4, 5, 6, 9], [0, 1, 2, 3, 4, 5, 7], [0, 1, 2, 3, 4, 5, 7, 8], [0, 1, 2, 3, 4, 5, 7, 8, 9], [0, 1, 2, 3, 4, 5, 7, 9], [0, 1, 2, 3, 4, 5, 8], [0, 1, 2, 3, 4, 5, 8, 9], [0, 1, 2, 3, 4, 5, 9], [0, 1, 2, 3, 4, 6], [0, 1, 2, 3, 4, 6, 7], [0, 1, 2, 3, 4, 6, 7, 8], [0, 1, 2, 3, 4, 6, 7, 8, 9], [0, 1, 2, 3, 4, 6, 7, 9], [0, 1, 2, 3, 4, 6, 8], [0, 1, 2, 3, 4, 6, 8, 9], [0, 1, 2, 3, 4, 6, 9], [0, 1, 2, 3, 4, 7], [0, 1, 2, 3, 4, 7, 8], [0, 1, 2, 3, 4, 7, 8, 9], [0, 1, 2, 3, 4, 7, 9], [0, 1, 2, 3, 4, 8], [0, 1, 2, 3, 4, 8, 9], [0, 1, 2, 3, 4, 9], [0, 1, 2, 3, 5], [0, 1, 2, 3, 5, 6], [0, 1, 2, 3, 5, 6, 7], [0, 1, 2, 3, 5, 6, 7, 8], [0, 1, 2, 3, 5, 6, 7, 8, 9], [0, 1, 2, 3, 5, 6, 7, 9], [0, 1, 2, 3, 5, 6, 8], [0, 1, 2, 3, 5, 6, 8, 9], [0, 1, 2, 3, 5, 6, 9], [0, 1, 2, 3, 5, 7], [0, 1, 2, 3, 5, 7, 8], [0, 1, 2, 3, 5, 7, 8, 9], [0, 1, 2, 3, 5, 7, 9], [0, 1, 2, 3, 5, 8], [0, 1, 2, 3, 5, 8, 9], [0, 1, 2, 3, 5, 9], [0, 1, 2, 3, 6], [0, 1, 2, 3, 6, 7], [0, 1, 2, 3, 6, 7, 8], [0, 1, 2, 3, 6, 7, 8, 9], [0, 1, 2, 3, 6, 7, 9], [0, 1, 2, 3, 6, 8], [0, 1, 2, 3, 6, 8, 9], [0, 1, 2, 3, 6, 9], [0, 1, 2, 3, 7], [0, 1, 2, 3, 7, 8], [0, 1, 2, 3, 7, 8, 9], [0, 1, 2, 3, 7, 9], [0, 1, 2, 3, 8], [0, 1, 2, 3, 8, 9], [0, 1, 2, 3, 9], [0, 1, 2, 4], [0, 1, 2, 4, 5], [0, 1, 2, 4, 5, 6], [0, 1, 2, 4, 5, 6, 7], [0, 1, 2, 4, 5, 6, 7, 8], [0, 1, 2, 4, 5, 6, 7, 8, 9], [0, 1, 2, 4, 5, 6, 7, 9], [0, 1, 2, 4, 5, 6, 8], [0, 1, 2, 4, 5, 6, 8, 9], [0, 1, 2, 4, 5, 6, 9], [0, 1, 2, 4, 5, 7], [0, 1, 2, 4, 5, 7, 8], [0, 1, 2, 4, 5, 7, 8, 9], [0, 1, 2, 4, 5, 7, 9], [0, 1, 2, 4, 5, 8], [0, 1, 2, 4, 5, 8, 9], [0, 1, 2, 4, 5, 9], [0, 1, 2, 4, 6], [0, 1, 2, 4, 6, 7], [0, 1, 2, 4, 6, 7, 8], [0, 1, 2, 4, 6, 7, 8, 9], [0, 1, 2, 4, 6, 7, 9], [0, 1, 2, 4, 6, 8], [0, 1, 2, 4, 6, 8, 9], [0, 1, 2, 4, 6, 9], [0, 1, 2, 4, 7], [0, 1, 2, 4, 7, 8], [0, 1, 2, 4, 7, 8, 9], [0, 1, 2, 4, 7, 9], [0, 1, 2, 4, 8], [0, 1, 2, 4, 8, 9], [0, 1, 2, 4, 9], [0, 1, 2, 5], [0, 1, 2, 5, 6], [0, 1, 2, 5, 6, 7], [0, 1, 2, 5, 6, 7, 8], [0, 1, 2, 5, 6, 7, 8, 9], [0, 1, 2, 5, 6, 7, 9], [0, 1, 2, 5, 6, 8], [0, 1, 2, 5, 6, 8, 9], [0, 1, 2, 5, 6, 9], [0, 1, 2, 5, 7], [0, 1, 2, 5, 7, 8], [0, 1, 2, 5, 7, 8, 9], [0, 1, 2, 5, 7, 9], [0, 1, 2, 5, 8], [0, 1, 2, 5, 8, 9], [0, 1, 2, 5, 9], [0, 1, 2, 6], [0, 1, 2, 6, 7], [0, 1, 2, 6, 7, 8], [0, 1, 2, 6, 7, 8, 9], [0, 1, 2, 6, 7, 9], [0, 1, 2, 6, 8], [0, 1, 2, 6, 8, 9], [0, 1, 2, 6, 9], [0, 1, 2, 7], [0, 1, 2, 7, 8], [0, 1, 2, 7, 8, 9], [0, 1, 2, 7, 9], [0, 1, 2, 8], [0, 1, 2, 8, 9], [0, 1, 2, 9], [0, 1, 3], [0, 1, 3, 4], [0, 1, 3, 4, 5], [0, 1, 3, 4, 5, 6], [0, 1, 3, 4, 5, 6, 7], [0, 1, 3, 4, 5, 6, 7, 8], [0, 1, 3, 4, 5, 6, 7, 8, 9], [0, 1, 3, 4, 5, 6, 7, 9], [0, 1, 3, 4, 5, 6, 8], [0, 1, 3, 4, 5, 6, 8, 9], [0, 1, 3, 4, 5, 6, 9], [0, 1, 3, 4, 5, 7], [0, 1, 3, 4, 5, 7, 8], [0, 1, 3, 4, 5, 7, 8, 9], [0, 1, 3, 4, 5, 7, 9], [0, 1, 3, 4, 5, 8], [0, 1, 3, 4, 5, 8, 9], [0, 1, 3, 4, 5, 9], [0, 1, 3, 4, 6], [0, 1, 3, 4, 6, 7], [0, 1, 3, 4, 6, 7, 8], [0, 1, 3, 4, 6, 7, 8, 9], [0, 1, 3, 4, 6, 7, 9], [0, 1, 3, 4, 6, 8], [0, 1, 3, 4, 6, 8, 9], [0, 1, 3, 4, 6, 9], [0, 1, 3, 4, 7], [0, 1, 3, 4, 7, 8], [0, 1, 3, 4, 7, 8, 9], [0, 1, 3, 4, 7, 9], [0, 1, 3, 4, 8], [0, 1, 3, 4, 8, 9], [0, 1, 3, 4, 9], [0, 1, 3, 5], [0, 1, 3, 5, 6], [0, 1, 3, 5, 6, 7], [0, 1, 3, 5, 6, 7, 8], [0, 1, 3, 5, 6, 7, 8, 9], [0, 1, 3, 5, 6, 7, 9], [0, 1, 3, 5, 6, 8], [0, 1, 3, 5, 6, 8, 9], [0, 1, 3, 5, 6, 9], [0, 1, 3, 5, 7], [0, 1, 3, 5, 7, 8], [0, 1, 3, 5, 7, 8, 9], [0, 1, 3, 5, 7, 9], [0, 1, 3, 5, 8], [0, 1, 3, 5, 8, 9], [0, 1, 3, 5, 9], [0, 1, 3, 6], [0, 1, 3, 6, 7], [0, 1, 3, 6, 7, 8], [0, 1, 3, 6, 7, 8, 9], [0, 1, 3, 6, 7, 9], [0, 1, 3, 6, 8], [0, 1, 3, 6, 8, 9], [0, 1, 3, 6, 9], [0, 1, 3, 7], [0, 1, 3, 7, 8], [0, 1, 3, 7, 8, 9], [0, 1, 3, 7, 9], [0, 1, 3, 8], [0, 1, 3, 8, 9], [0, 1, 3, 9], [0, 1, 4], [0, 1, 4, 5], [0, 1, 4, 5, 6], [0, 1, 4, 5, 6, 7], [0, 1, 4, 5, 6, 7, 8], [0, 1, 4, 5, 6, 7, 8, 9], [0, 1, 4, 5, 6, 7, 9], [0, 1, 4, 5, 6, 8], [0, 1, 4, 5, 6, 8, 9], [0, 1, 4, 5, 6, 9], [0, 1, 4, 5, 7], [0, 1, 4, 5, 7, 8], [0, 1, 4, 5, 7, 8, 9], [0, 1, 4, 5, 7, 9], [0, 1, 4, 5, 8], [0, 1, 4, 5, 8, 9], [0, 1, 4, 5, 9], [0, 1, 4, 6], [0, 1, 4, 6, 7], [0, 1, 4, 6, 7, 8], [0, 1, 4, 6, 7, 8, 9], [0, 1, 4, 6, 7, 9], [0, 1, 4, 6, 8], [0, 1, 4, 6, 8, 9], [0, 1, 4, 6, 9], [0, 1, 4, 7], [0, 1, 4, 7, 8], [0, 1, 4, 7, 8, 9], [0, 1, 4, 7, 9], [0, 1, 4, 8], [0, 1, 4, 8, 9], [0, 1, 4, 9], [0, 1, 5], [0, 1, 5, 6], [0, 1, 5, 6, 7], [0, 1, 5, 6, 7, 8], [0, 1, 5, 6, 7, 8, 9], [0, 1, 5, 6, 7, 9], [0, 1, 5, 6, 8], [0, 1, 5, 6, 8, 9], [0, 1, 5, 6, 9], [0, 1, 5, 7], [0, 1, 5, 7, 8], [0, 1, 5, 7, 8, 9], [0, 1, 5, 7, 9], [0, 1, 5, 8], [0, 1, 5, 8, 9], [0, 1, 5, 9], [0, 1, 6], [0, 1, 6, 7], [0, 1, 6, 7, 8], [0, 1, 6, 7, 8, 9], [0, 1, 6, 7, 9], [0, 1, 6, 8], [0, 1, 6, 8, 9], [0, 1, 6, 9], [0, 1, 7], [0, 1, 7, 8], [0, 1, 7, 8, 9], [0, 1, 7, 9], [0, 1, 8], [0, 1, 8, 9], [0, 1, 9], [0, 2], [0, 2, 3], [0, 2, 3, 4], [0, 2, 3, 4, 5], [0, 2, 3, 4, 5, 6], [0, 2, 3, 4, 5, 6, 7], [0, 2, 3, 4, 5, 6, 7, 8], [0, 2, 3, 4, 5, 6, 7, 8, 9], [0, 2, 3, 4, 5, 6, 7, 9], [0, 2, 3, 4, 5, 6, 8], [0, 2, 3, 4, 5, 6, 8, 9], [0, 2, 3, 4, 5, 6, 9], [0, 2, 3, 4, 5, 7], [0, 2, 3, 4, 5, 7, 8], [0, 2, 3, 4, 5, 7, 8, 9], [0, 2, 3, 4, 5, 7, 9], [0, 2, 3, 4, 5, 8], [0, 2, 3, 4, 5, 8, 9], [0, 2, 3, 4, 5, 9], [0, 2, 3, 4, 6], [0, 2, 3, 4, 6, 7], [0, 2, 3, 4, 6, 7, 8], [0, 2, 3, 4, 6, 7, 8, 9], [0, 2, 3, 4, 6, 7, 9], [0, 2, 3, 4, 6, 8], [0, 2, 3, 4, 6, 8, 9], [0, 2, 3, 4, 6, 9], [0, 2, 3, 4, 7], [0, 2, 3, 4, 7, 8], [0, 2, 3, 4, 7, 8, 9], [0, 2, 3, 4, 7, 9], [0, 2, 3, 4, 8], [0, 2, 3, 4, 8, 9], [0, 2, 3, 4, 9], [0, 2, 3, 5], [0, 2, 3, 5, 6], [0, 2, 3, 5, 6, 7], [0, 2, 3, 5, 6, 7, 8], [0, 2, 3, 5, 6, 7, 8, 9], [0, 2, 3, 5, 6, 7, 9], [0, 2, 3, 5, 6, 8], [0, 2, 3, 5, 6, 8, 9], [0, 2, 3, 5, 6, 9], [0, 2, 3, 5, 7], [0, 2, 3, 5, 7, 8], [0, 2, 3, 5, 7, 8, 9], [0, 2, 3, 5, 7, 9], [0, 2, 3, 5, 8], [0, 2, 3, 5, 8, 9], [0, 2, 3, 5, 9], [0, 2, 3, 6], [0, 2, 3, 6, 7], [0, 2, 3, 6, 7, 8], [0, 2, 3, 6, 7, 8, 9], [0, 2, 3, 6, 7, 9], [0, 2, 3, 6, 8], [0, 2, 3, 6, 8, 9], [0, 2, 3, 6, 9], [0, 2, 3, 7], [0, 2, 3, 7, 8], [0, 2, 3, 7, 8, 9], [0, 2, 3, 7, 9], [0, 2, 3, 8], [0, 2, 3, 8, 9], [0, 2, 3, 9], [0, 2, 4], [0, 2, 4, 5], [0, 2, 4, 5, 6], [0, 2, 4, 5, 6, 7], [0, 2, 4, 5, 6, 7, 8], [0, 2, 4, 5, 6, 7, 8, 9], [0, 2, 4, 5, 6, 7, 9], [0, 2, 4, 5, 6, 8], [0, 2, 4, 5, 6, 8, 9], [0, 2, 4, 5, 6, 9], [0, 2, 4, 5, 7], [0, 2, 4, 5, 7, 8], [0, 2, 4, 5, 7, 8, 9], [0, 2, 4, 5, 7, 9], [0, 2, 4, 5, 8], [0, 2, 4, 5, 8, 9], [0, 2, 4, 5, 9], [0, 2, 4, 6], [0, 2, 4, 6, 7], [0, 2, 4, 6, 7, 8], [0, 2, 4, 6, 7, 8, 9], [0, 2, 4, 6, 7, 9], [0, 2, 4, 6, 8], [0, 2, 4, 6, 8, 9], [0, 2, 4, 6, 9], [0, 2, 4, 7], [0, 2, 4, 7, 8], [0, 2, 4, 7, 8, 9], [0, 2, 4, 7, 9], [0, 2, 4, 8], [0, 2, 4, 8, 9], [0, 2, 4, 9], [0, 2, 5], [0, 2, 5, 6], [0, 2, 5, 6, 7], [0, 2, 5, 6, 7, 8], [0, 2, 5, 6, 7, 8, 9], [0, 2, 5, 6, 7, 9], [0, 2, 5, 6, 8], [0, 2, 5, 6, 8, 9], [0, 2, 5, 6, 9], [0, 2, 5, 7], [0, 2, 5, 7, 8], [0, 2, 5, 7, 8, 9], [0, 2, 5, 7, 9], [0, 2, 5, 8], [0, 2, 5, 8, 9], [0, 2, 5, 9], [0, 2, 6], [0, 2, 6, 7], [0, 2, 6, 7, 8], [0, 2, 6, 7, 8, 9], [0, 2, 6, 7, 9], [0, 2, 6, 8], [0, 2, 6, 8, 9], [0, 2, 6, 9], [0, 2, 7], [0, 2, 7, 8], [0, 2, 7, 8, 9], [0, 2, 7, 9], [0, 2, 8], [0, 2, 8, 9], [0, 2, 9], [0, 3], [0, 3, 4], [0, 3, 4, 5], [0, 3, 4, 5, 6], [0, 3, 4, 5, 6, 7], [0, 3, 4, 5, 6, 7, 8], [0, 3, 4, 5, 6, 7, 8, 9], [0, 3, 4, 5, 6, 7, 9], [0, 3, 4, 5, 6, 8], [0, 3, 4, 5, 6, 8, 9], [0, 3, 4, 5, 6, 9], [0, 3, 4, 5, 7], [0, 3, 4, 5, 7, 8], [0, 3, 4, 5, 7, 8, 9], [0, 3, 4, 5, 7, 9], [0, 3, 4, 5, 8], [0, 3, 4, 5, 8, 9], [0, 3, 4, 5, 9], [0, 3, 4, 6], [0, 3, 4, 6, 7], [0, 3, 4, 6, 7, 8], [0, 3, 4, 6, 7, 8, 9], [0, 3, 4, 6, 7, 9], [0, 3, 4, 6, 8], [0, 3, 4, 6, 8, 9], [0, 3, 4, 6, 9], [0, 3, 4, 7], [0, 3, 4, 7, 8], [0, 3, 4, 7, 8, 9], [0, 3, 4, 7, 9], [0, 3, 4, 8], [0, 3, 4, 8, 9], [0, 3, 4, 9], [0, 3, 5], [0, 3, 5, 6], [0, 3, 5, 6, 7], [0, 3, 5, 6, 7, 8], [0, 3, 5, 6, 7, 8, 9], [0, 3, 5, 6, 7, 9], [0, 3, 5, 6, 8], [0, 3, 5, 6, 8, 9], [0, 3, 5, 6, 9], [0, 3, 5, 7], [0, 3, 5, 7, 8], [0, 3, 5, 7, 8, 9], [0, 3, 5, 7, 9], [0, 3, 5, 8], [0, 3, 5, 8, 9], [0, 3, 5, 9], [0, 3, 6], [0, 3, 6, 7], [0, 3, 6, 7, 8], [0, 3, 6, 7, 8, 9], [0, 3, 6, 7, 9], [0, 3, 6, 8], [0, 3, 6, 8, 9], [0, 3, 6, 9], [0, 3, 7], [0, 3, 7, 8], [0, 3, 7, 8, 9], [0, 3, 7, 9], [0, 3, 8], [0, 3, 8, 9], [0, 3, 9], [0, 4], [0, 4, 5], [0, 4, 5, 6], [0, 4, 5, 6, 7], [0, 4, 5, 6, 7, 8], [0, 4, 5, 6, 7, 8, 9], [0, 4, 5, 6, 7, 9], [0, 4, 5, 6, 8], [0, 4, 5, 6, 8, 9], [0, 4, 5, 6, 9], [0, 4, 5, 7], [0, 4, 5, 7, 8], [0, 4, 5, 7, 8, 9], [0, 4, 5, 7, 9], [0, 4, 5, 8], [0, 4, 5, 8, 9], [0, 4, 5, 9], [0, 4, 6], [0, 4, 6, 7], [0, 4, 6, 7, 8], [0, 4, 6, 7, 8, 9], [0, 4, 6, 7, 9], [0, 4, 6, 8], [0, 4, 6, 8, 9], [0, 4, 6, 9], [0, 4, 7], [0, 4, 7, 8], [0, 4, 7, 8, 9], [0, 4, 7, 9], [0, 4, 8], [0, 4, 8, 9], [0, 4, 9], [0, 5], [0, 5, 6], [0, 5, 6, 7], [0, 5, 6, 7, 8], [0, 5, 6, 7, 8, 9], [0, 5, 6, 7, 9], [0, 5, 6, 8], [0, 5, 6, 8, 9], [0, 5, 6, 9], [0, 5, 7], [0, 5, 7, 8], [0, 5, 7, 8, 9], [0, 5, 7, 9], [0, 5, 8], [0, 5, 8, 9], [0, 5, 9], [0, 6], [0, 6, 7], [0, 6, 7, 8], [0, 6, 7, 8, 9], [0, 6, 7, 9], [0, 6, 8], [0, 6, 8, 9], [0, 6, 9], [0, 7], [0, 7, 8], [0, 7, 8, 9], [0, 7, 9], [0, 8], [0, 8, 9], [0, 9], [1], [1, 2], [1, 2, 3], [1, 2, 3, 4], [1, 2, 3, 4, 5], [1, 2, 3, 4, 5, 6], [1, 2, 3, 4, 5, 6, 7], [1, 2, 3, 4, 5, 6, 7, 8], [1, 2, 3, 4, 5, 6, 7, 8, 9], [1, 2, 3, 4, 5, 6, 7, 9], [1, 2, 3, 4, 5, 6, 8], [1, 2, 3, 4, 5, 6, 8, 9], [1, 2, 3, 4, 5, 6, 9], [1, 2, 3, 4, 5, 7], [1, 2, 3, 4, 5, 7, 8], [1, 2, 3, 4, 5, 7, 8, 9], [1, 2, 3, 4, 5, 7, 9], [1, 2, 3, 4, 5, 8], [1, 2, 3, 4, 5, 8, 9], [1, 2, 3, 4, 5, 9], [1, 2, 3, 4, 6], [1, 2, 3, 4, 6, 7], [1, 2, 3, 4, 6, 7, 8], [1, 2, 3, 4, 6, 7, 8, 9], [1, 2, 3, 4, 6, 7, 9], [1, 2, 3, 4, 6, 8], [1, 2, 3, 4, 6, 8, 9], [1, 2, 3, 4, 6, 9], [1, 2, 3, 4, 7], [1, 2, 3, 4, 7, 8], [1, 2, 3, 4, 7, 8, 9], [1, 2, 3, 4, 7, 9], [1, 2, 3, 4, 8], [1, 2, 3, 4, 8, 9], [1, 2, 3, 4, 9], [1, 2, 3, 5], [1, 2, 3, 5, 6], [1, 2, 3, 5, 6, 7], [1, 2, 3, 5, 6, 7, 8], [1, 2, 3, 5, 6, 7, 8, 9], [1, 2, 3, 5, 6, 7, 9], [1, 2, 3, 5, 6, 8], [1, 2, 3, 5, 6, 8, 9], [1, 2, 3, 5, 6, 9], [1, 2, 3, 5, 7], [1, 2, 3, 5, 7, 8], [1, 2, 3, 5, 7, 8, 9], [1, 2, 3, 5, 7, 9], [1, 2, 3, 5, 8], [1, 2, 3, 5, 8, 9], [1, 2, 3, 5, 9], [1, 2, 3, 6], [1, 2, 3, 6, 7], [1, 2, 3, 6, 7, 8], [1, 2, 3, 6, 7, 8, 9], [1, 2, 3, 6, 7, 9], [1, 2, 3, 6, 8], [1, 2, 3, 6, 8, 9], [1, 2, 3, 6, 9], [1, 2, 3, 7], [1, 2, 3, 7, 8], [1, 2, 3, 7, 8, 9], [1, 2, 3, 7, 9], [1, 2, 3, 8], [1, 2, 3, 8, 9], [1, 2, 3, 9], [1, 2, 4], [1, 2, 4, 5], [1, 2, 4, 5, 6], [1, 2, 4, 5, 6, 7], [1, 2, 4, 5, 6, 7, 8], [1, 2, 4, 5, 6, 7, 8, 9], [1, 2, 4, 5, 6, 7, 9], [1, 2, 4, 5, 6, 8], [1, 2, 4, 5, 6, 8, 9], [1, 2, 4, 5, 6, 9], [1, 2, 4, 5, 7], [1, 2, 4, 5, 7, 8], [1, 2, 4, 5, 7, 8, 9], [1, 2, 4, 5, 7, 9], [1, 2, 4, 5, 8], [1, 2, 4, 5, 8, 9], [1, 2, 4, 5, 9], [1, 2, 4, 6], [1, 2, 4, 6, 7], [1, 2, 4, 6, 7, 8], [1, 2, 4, 6, 7, 8, 9], [1, 2, 4, 6, 7, 9], [1, 2, 4, 6, 8], [1, 2, 4, 6, 8, 9], [1, 2, 4, 6, 9], [1, 2, 4, 7], [1, 2, 4, 7, 8], [1, 2, 4, 7, 8, 9], [1, 2, 4, 7, 9], [1, 2, 4, 8], [1, 2, 4, 8, 9], [1, 2, 4, 9], [1, 2, 5], [1, 2, 5, 6], [1, 2, 5, 6, 7], [1, 2, 5, 6, 7, 8], [1, 2, 5, 6, 7, 8, 9], [1, 2, 5, 6, 7, 9], [1, 2, 5, 6, 8], [1, 2, 5, 6, 8, 9], [1, 2, 5, 6, 9], [1, 2, 5, 7], [1, 2, 5, 7, 8], [1, 2, 5, 7, 8, 9], [1, 2, 5, 7, 9], [1, 2, 5, 8], [1, 2, 5, 8, 9], [1, 2, 5, 9], [1, 2, 6], [1, 2, 6, 7], [1, 2, 6, 7, 8], [1, 2, 6, 7, 8, 9], [1, 2, 6, 7, 9], [1, 2, 6, 8], [1, 2, 6, 8, 9], [1, 2, 6, 9], [1, 2, 7], [1, 2, 7, 8], [1, 2, 7, 8, 9], [1, 2, 7, 9], [1, 2, 8], [1, 2, 8, 9], [1, 2, 9], [1, 3], [1, 3, 4], [1, 3, 4, 5], [1, 3, 4, 5, 6], [1, 3, 4, 5, 6, 7], [1, 3, 4, 5, 6, 7, 8], [1, 3, 4, 5, 6, 7, 8, 9], [1, 3, 4, 5, 6, 7, 9], [1, 3, 4, 5, 6, 8], [1, 3, 4, 5, 6, 8, 9], [1, 3, 4, 5, 6, 9], [1, 3, 4, 5, 7], [1, 3, 4, 5, 7, 8], [1, 3, 4, 5, 7, 8, 9], [1, 3, 4, 5, 7, 9], [1, 3, 4, 5, 8], [1, 3, 4, 5, 8, 9], [1, 3, 4, 5, 9], [1, 3, 4, 6], [1, 3, 4, 6, 7], [1, 3, 4, 6, 7, 8], [1, 3, 4, 6, 7, 8, 9], [1, 3, 4, 6, 7, 9], [1, 3, 4, 6, 8], [1, 3, 4, 6, 8, 9], [1, 3, 4, 6, 9], [1, 3, 4, 7], [1, 3, 4, 7, 8], [1, 3, 4, 7, 8, 9], [1, 3, 4, 7, 9], [1, 3, 4, 8], [1, 3, 4, 8, 9], [1, 3, 4, 9], [1, 3, 5], [1, 3, 5, 6], [1, 3, 5, 6, 7], [1, 3, 5, 6, 7, 8], [1, 3, 5, 6, 7, 8, 9], [1, 3, 5, 6, 7, 9], [1, 3, 5, 6, 8], [1, 3, 5, 6, 8, 9], [1, 3, 5, 6, 9], [1, 3, 5, 7], [1, 3, 5, 7, 8], [1, 3, 5, 7, 8, 9], [1, 3, 5, 7, 9], [1, 3, 5, 8], [1, 3, 5, 8, 9], [1, 3, 5, 9], [1, 3, 6], [1, 3, 6, 7], [1, 3, 6, 7, 8], [1, 3, 6, 7, 8, 9], [1, 3, 6, 7, 9], [1, 3, 6, 8], [1, 3, 6, 8, 9], [1, 3, 6, 9], [1, 3, 7], [1, 3, 7, 8], [1, 3, 7, 8, 9], [1, 3, 7, 9], [1, 3, 8], [1, 3, 8, 9], [1, 3, 9], [1, 4], [1, 4, 5], [1, 4, 5, 6], [1, 4, 5, 6, 7], [1, 4, 5, 6, 7, 8], [1, 4, 5, 6, 7, 8, 9], [1, 4, 5, 6, 7, 9], [1, 4, 5, 6, 8], [1, 4, 5, 6, 8, 9], [1, 4, 5, 6, 9], [1, 4, 5, 7], [1, 4, 5, 7, 8], [1, 4, 5, 7, 8, 9], [1, 4, 5, 7, 9], [1, 4, 5, 8], [1, 4, 5, 8, 9], [1, 4, 5, 9], [1, 4, 6], [1, 4, 6, 7], [1, 4, 6, 7, 8], [1, 4, 6, 7, 8, 9], [1, 4, 6, 7, 9], [1, 4, 6, 8], [1, 4, 6, 8, 9], [1, 4, 6, 9], [1, 4, 7], [1, 4, 7, 8], [1, 4, 7, 8, 9], [1, 4, 7, 9], [1, 4, 8], [1, 4, 8, 9], [1, 4, 9], [1, 5], [1, 5, 6], [1, 5, 6, 7], [1, 5, 6, 7, 8], [1, 5, 6, 7, 8, 9], [1, 5, 6, 7, 9], [1, 5, 6, 8], [1, 5, 6, 8, 9], [1, 5, 6, 9], [1, 5, 7], [1, 5, 7, 8], [1, 5, 7, 8, 9], [1, 5, 7, 9], [1, 5, 8], [1, 5, 8, 9], [1, 5, 9], [1, 6], [1, 6, 7], [1, 6, 7, 8], [1, 6, 7, 8, 9], [1, 6, 7, 9], [1, 6, 8], [1, 6, 8, 9], [1, 6, 9], [1, 7], [1, 7, 8], [1, 7, 8, 9], [1, 7, 9], [1, 8], [1, 8, 9], [1, 9], [2], [2, 3], [2, 3, 4], [2, 3, 4, 5], [2, 3, 4, 5, 6], [2, 3, 4, 5, 6, 7], [2, 3, 4, 5, 6, 7, 8], [2, 3, 4, 5, 6, 7, 8, 9], [2, 3, 4, 5, 6, 7, 9], [2, 3, 4, 5, 6, 8], [2, 3, 4, 5, 6, 8, 9], [2, 3, 4, 5, 6, 9], [2, 3, 4, 5, 7], [2, 3, 4, 5, 7, 8], [2, 3, 4, 5, 7, 8, 9], [2, 3, 4, 5, 7, 9], [2, 3, 4, 5, 8], [2, 3, 4, 5, 8, 9], [2, 3, 4, 5, 9], [2, 3, 4, 6], [2, 3, 4, 6, 7], [2, 3, 4, 6, 7, 8], [2, 3, 4, 6, 7, 8, 9], [2, 3, 4, 6, 7, 9], [2, 3, 4, 6, 8], [2, 3, 4, 6, 8, 9], [2, 3, 4, 6, 9], [2, 3, 4, 7], [2, 3, 4, 7, 8], [2, 3, 4, 7, 8, 9], [2, 3, 4, 7, 9], [2, 3, 4, 8], [2, 3, 4, 8, 9], [2, 3, 4, 9], [2, 3, 5], [2, 3, 5, 6], [2, 3, 5, 6, 7], [2, 3, 5, 6, 7, 8], [2, 3, 5, 6, 7, 8, 9], [2, 3, 5, 6, 7, 9], [2, 3, 5, 6, 8], [2, 3, 5, 6, 8, 9], [2, 3, 5, 6, 9], [2, 3, 5, 7], [2, 3, 5, 7, 8], [2, 3, 5, 7, 8, 9], [2, 3, 5, 7, 9], [2, 3, 5, 8], [2, 3, 5, 8, 9], [2, 3, 5, 9], [2, 3, 6], [2, 3, 6, 7], [2, 3, 6, 7, 8], [2, 3, 6, 7, 8, 9], [2, 3, 6, 7, 9], [2, 3, 6, 8], [2, 3, 6, 8, 9], [2, 3, 6, 9], [2, 3, 7], [2, 3, 7, 8], [2, 3, 7, 8, 9], [2, 3, 7, 9], [2, 3, 8], [2, 3, 8, 9], [2, 3, 9], [2, 4], [2, 4, 5], [2, 4, 5, 6], [2, 4, 5, 6, 7], [2, 4, 5, 6, 7, 8], [2, 4, 5, 6, 7, 8, 9], [2, 4, 5, 6, 7, 9], [2, 4, 5, 6, 8], [2, 4, 5, 6, 8, 9], [2, 4, 5, 6, 9], [2, 4, 5, 7], [2, 4, 5, 7, 8], [2, 4, 5, 7, 8, 9], [2, 4, 5, 7, 9], [2, 4, 5, 8], [2, 4, 5, 8, 9], [2, 4, 5, 9], [2, 4, 6], [2, 4, 6, 7], [2, 4, 6, 7, 8], [2, 4, 6, 7, 8, 9], [2, 4, 6, 7, 9], [2, 4, 6, 8], [2, 4, 6, 8, 9], [2, 4, 6, 9], [2, 4, 7], [2, 4, 7, 8], [2, 4, 7, 8, 9], [2, 4, 7, 9], [2, 4, 8], [2, 4, 8, 9], [2, 4, 9], [2, 5], [2, 5, 6], [2, 5, 6, 7], [2, 5, 6, 7, 8], [2, 5, 6, 7, 8, 9], [2, 5, 6, 7, 9], [2, 5, 6, 8], [2, 5, 6, 8, 9], [2, 5, 6, 9], [2, 5, 7], [2, 5, 7, 8], [2, 5, 7, 8, 9], [2, 5, 7, 9], [2, 5, 8], [2, 5, 8, 9], [2, 5, 9], [2, 6], [2, 6, 7], [2, 6, 7, 8], [2, 6, 7, 8, 9], [2, 6, 7, 9], [2, 6, 8], [2, 6, 8, 9], [2, 6, 9], [2, 7], [2, 7, 8], [2, 7, 8, 9], [2, 7, 9], [2, 8], [2, 8, 9], [2, 9], [3], [3, 4], [3, 4, 5], [3, 4, 5, 6], [3, 4, 5, 6, 7], [3, 4, 5, 6, 7, 8], [3, 4, 5, 6, 7, 8, 9], [3, 4, 5, 6, 7, 9], [3, 4, 5, 6, 8], [3, 4, 5, 6, 8, 9], [3, 4, 5, 6, 9], [3, 4, 5, 7], [3, 4, 5, 7, 8], [3, 4, 5, 7, 8, 9], [3, 4, 5, 7, 9], [3, 4, 5, 8], [3, 4, 5, 8, 9], [3, 4, 5, 9], [3, 4, 6], [3, 4, 6, 7], [3, 4, 6, 7, 8], [3, 4, 6, 7, 8, 9], [3, 4, 6, 7, 9], [3, 4, 6, 8], [3, 4, 6, 8, 9], [3, 4, 6, 9], [3, 4, 7], [3, 4, 7, 8], [3, 4, 7, 8, 9], [3, 4, 7, 9], [3, 4, 8], [3, 4, 8, 9], [3, 4, 9], [3, 5], [3, 5, 6], [3, 5, 6, 7], [3, 5, 6, 7, 8], [3, 5, 6, 7, 8, 9], [3, 5, 6, 7, 9], [3, 5, 6, 8], [3, 5, 6, 8, 9], [3, 5, 6, 9], [3, 5, 7], [3, 5, 7, 8], [3, 5, 7, 8, 9], [3, 5, 7, 9], [3, 5, 8], [3, 5, 8, 9], [3, 5, 9], [3, 6], [3, 6, 7], [3, 6, 7, 8], [3, 6, 7, 8, 9], [3, 6, 7, 9], [3, 6, 8], [3, 6, 8, 9], [3, 6, 9], [3, 7], [3, 7, 8], [3, 7, 8, 9], [3, 7, 9], [3, 8], [3, 8, 9], [3, 9], [4], [4, 5], [4, 5, 6], [4, 5, 6, 7], [4, 5, 6, 7, 8], [4, 5, 6, 7, 8, 9], [4, 5, 6, 7, 9], [4, 5, 6, 8], [4, 5, 6, 8, 9], [4, 5, 6, 9], [4, 5, 7], [4, 5, 7, 8], [4, 5, 7, 8, 9], [4, 5, 7, 9], [4, 5, 8], [4, 5, 8, 9], [4, 5, 9], [4, 6], [4, 6, 7], [4, 6, 7, 8], [4, 6, 7, 8, 9], [4, 6, 7, 9], [4, 6, 8], [4, 6, 8, 9], [4, 6, 9], [4, 7], [4, 7, 8], [4, 7, 8, 9], [4, 7, 9], [4, 8], [4, 8, 9], [4, 9], [5], [5, 6], [5, 6, 7], [5, 6, 7, 8], [5, 6, 7, 8, 9], [5, 6, 7, 9], [5, 6, 8], [5, 6, 8, 9], [5, 6, 9], [5, 7], [5, 7, 8], [5, 7, 8, 9], [5, 7, 9], [5, 8], [5, 8, 9], [5, 9], [6], [6, 7], [6, 7, 8], [6, 7, 8, 9], [6, 7, 9], [6, 8], [6, 8, 9], [6, 9], [7], [7, 8], [7, 8, 9], [7, 9], [8], [8, 9], [9]]\n",
      "1023\n"
     ]
    }
   ],
   "source": [
    "class_set=list(range(num_class))\n",
    "act_set= PowerSetsBinary(class_set)\n",
    "act_set.remove(act_set[0])#emptyset is not needed\n",
    "act_set=sorted(act_set)\n",
    "print(act_set)\n",
    "print(len(act_set))\n",
    "#label_dict = {0:'airplane', 1:'automobile', 2:'bird', 3:'cat', 4:'deer',\n",
    "#              5:'dog', 6:'frog', 7:'horse', 8:'ship', 9:'truck'}"
   ]
  },
  {
   "cell_type": "code",
   "execution_count": 12,
   "metadata": {
    "colab": {
     "base_uri": "https://localhost:8080/"
    },
    "executionInfo": {
     "elapsed": 420,
     "status": "ok",
     "timestamp": 1617950043825,
     "user": {
      "displayName": "童峥",
      "photoUrl": "",
      "userId": "08916676345838244430"
     },
     "user_tz": -120
    },
    "id": "rL4ZqMMEG600",
    "outputId": "fac7b5c2-09af-469f-8615-877206e81dcb"
   },
   "outputs": [
    {
     "name": "stdout",
     "output_type": "stream",
     "text": [
      "[[1.         0.         0.         ... 0.         0.         0.        ]\n",
      " [0.8        0.8        0.         ... 0.         0.         0.        ]\n",
      " [0.68186243 0.68186243 0.68186243 ... 0.         0.         0.        ]\n",
      " ...\n",
      " [0.         0.         0.         ... 0.         1.         0.        ]\n",
      " [0.         0.         0.         ... 0.         0.8        0.8       ]\n",
      " [0.         0.         0.         ... 0.         0.         1.        ]]\n"
     ]
    }
   ],
   "source": [
    "utility_matrix = np.zeros([len(act_set), len(class_set)])\n",
    "tol_i = 3 \n",
    "#tol_i = 0 with tol=0.5, tol_i = 1 with tol=0.6, tol_i = 2 with tol=0.7, tol_i = 3 with tol=0.8, tol_i = 4 with tol=0.9\n",
    "for i in range(len(act_set)):\n",
    "  intersec = class_set and act_set[i]\n",
    "  if len(intersec) == 1:\n",
    "    utility_matrix[i, intersec] = 1\n",
    "  \n",
    "  else:\n",
    "    for j in range(len(intersec)):\n",
    "      utility_matrix[i, intersec[j]] = locals()['weight'+str(len(intersec))][tol_i, 0]\n",
    "print (utility_matrix)"
   ]
  },
  {
   "cell_type": "markdown",
   "metadata": {
    "id": "-HgXjy46KVuW"
   },
   "source": [
    "Let's build the evidential FitNet-4 classifier for set-valued classification. Compared to the classifier with only precise classification, the testing classifier have extra expected utilities for all imprecise assignments if considering all possible subsets. Thus, we can directly get the weights from the previous classifiers without extra training."
   ]
  },
  {
   "cell_type": "code",
   "execution_count": 13,
   "metadata": {
    "colab": {
     "base_uri": "https://localhost:8080/"
    },
    "executionInfo": {
     "elapsed": 23755,
     "status": "ok",
     "timestamp": 1617950069797,
     "user": {
      "displayName": "童峥",
      "photoUrl": "",
      "userId": "08916676345838244430"
     },
     "user_tz": -120
    },
    "id": "JWJPNHxddFy5",
    "outputId": "29fcad86-a657-40e8-a8c0-e5fcd70501ad"
   },
   "outputs": [
    {
     "name": "stdout",
     "output_type": "stream",
     "text": [
      "Model: \"model_3\"\n",
      "_________________________________________________________________\n",
      "Layer (type)                 Output Shape              Param #   \n",
      "=================================================================\n",
      "input_4 (InputLayer)         [(None, 32, 32, 3)]       0         \n",
      "_________________________________________________________________\n",
      "conv2d_45 (Conv2D)           (None, 32, 32, 32)        896       \n",
      "_________________________________________________________________\n",
      "conv2d_46 (Conv2D)           (None, 32, 32, 32)        9248      \n",
      "_________________________________________________________________\n",
      "conv2d_47 (Conv2D)           (None, 32, 32, 32)        9248      \n",
      "_________________________________________________________________\n",
      "conv2d_48 (Conv2D)           (None, 32, 32, 48)        13872     \n",
      "_________________________________________________________________\n",
      "conv2d_49 (Conv2D)           (None, 32, 32, 48)        20784     \n",
      "_________________________________________________________________\n",
      "batch_normalization_9 (Batch (None, 32, 32, 48)        192       \n",
      "_________________________________________________________________\n",
      "max_pooling2d_9 (MaxPooling2 (None, 16, 16, 48)        0         \n",
      "_________________________________________________________________\n",
      "dropout_9 (Dropout)          (None, 16, 16, 48)        0         \n",
      "_________________________________________________________________\n",
      "conv2d_50 (Conv2D)           (None, 16, 16, 80)        34640     \n",
      "_________________________________________________________________\n",
      "conv2d_51 (Conv2D)           (None, 16, 16, 80)        57680     \n",
      "_________________________________________________________________\n",
      "conv2d_52 (Conv2D)           (None, 16, 16, 80)        57680     \n",
      "_________________________________________________________________\n",
      "conv2d_53 (Conv2D)           (None, 16, 16, 80)        57680     \n",
      "_________________________________________________________________\n",
      "conv2d_54 (Conv2D)           (None, 16, 16, 80)        57680     \n",
      "_________________________________________________________________\n",
      "batch_normalization_10 (Batc (None, 16, 16, 80)        320       \n",
      "_________________________________________________________________\n",
      "max_pooling2d_10 (MaxPooling (None, 8, 8, 80)          0         \n",
      "_________________________________________________________________\n",
      "dropout_10 (Dropout)         (None, 8, 8, 80)          0         \n",
      "_________________________________________________________________\n",
      "conv2d_55 (Conv2D)           (None, 8, 8, 128)         92288     \n",
      "_________________________________________________________________\n",
      "conv2d_56 (Conv2D)           (None, 8, 8, 128)         147584    \n",
      "_________________________________________________________________\n",
      "conv2d_57 (Conv2D)           (None, 8, 8, 128)         147584    \n",
      "_________________________________________________________________\n",
      "conv2d_58 (Conv2D)           (None, 8, 8, 128)         147584    \n",
      "_________________________________________________________________\n",
      "conv2d_59 (Conv2D)           (None, 8, 8, 128)         147584    \n",
      "_________________________________________________________________\n",
      "batch_normalization_11 (Batc (None, 8, 8, 128)         512       \n",
      "_________________________________________________________________\n",
      "max_pooling2d_11 (MaxPooling (None, 1, 1, 128)         0         \n",
      "_________________________________________________________________\n",
      "dropout_11 (Dropout)         (None, 1, 1, 128)         0         \n",
      "_________________________________________________________________\n",
      "flatten_3 (Flatten)          (None, 128)               0         \n",
      "_________________________________________________________________\n",
      "d_s1_2 (DS1)                 (None, 200)               25600     \n",
      "_________________________________________________________________\n",
      "d_s1_activate_2 (DS1_activat (None, 200)               400       \n",
      "_________________________________________________________________\n",
      "d_s2_2 (DS2)                 (None, 200, 10)           2000      \n",
      "_________________________________________________________________\n",
      "d_s2_omega_2 (DS2_omega)     (None, 200, 11)           0         \n",
      "_________________________________________________________________\n",
      "d_s3__dempster_2 (DS3_Dempst (None, 11)                0         \n",
      "_________________________________________________________________\n",
      "d_s3_normalize_2 (DS3_normal (None, 11)                0         \n",
      "_________________________________________________________________\n",
      "dm_test (DM_test)            (None, 1023)              10230     \n",
      "=================================================================\n",
      "Total params: 1,041,286\n",
      "Trainable params: 1,030,544\n",
      "Non-trainable params: 10,742\n",
      "_________________________________________________________________\n"
     ]
    }
   ],
   "source": [
    "IMG_WIDTH = 32\n",
    "IMG_HEIGHT = 32\n",
    "IMG_CHANNELS = 3\n",
    "inputs_pixels = IMG_WIDTH * IMG_HEIGHT\n",
    "prototypes=200\n",
    "num_class=10\n",
    "number_act_set = len(act_set)\n",
    "\n",
    "inputs = tf.keras.layers.Input((IMG_HEIGHT, IMG_WIDTH, IMG_CHANNELS))\n",
    "\n",
    "#convolution stages\n",
    "c1_1 = tf.keras.layers.Conv2D(32, (3, 3), activation='relu', kernel_initializer='he_normal', padding='same')(inputs)\n",
    "c1_2 = tf.keras.layers.Conv2D(32, (3, 3), activation='relu', kernel_initializer='he_normal', padding='same')(c1_1)\n",
    "c1_3 = tf.keras.layers.Conv2D(32, (3, 3), activation='relu', kernel_initializer='he_normal', padding='same')(c1_2)\n",
    "c1_4 = tf.keras.layers.Conv2D(48, (3, 3), activation='relu', kernel_initializer='he_normal', padding='same')(c1_3)\n",
    "c1_5 = tf.keras.layers.Conv2D(48, (3, 3), activation='relu', kernel_initializer='he_normal', padding='same')(c1_4)\n",
    "bt1 = tf.keras.layers.BatchNormalization()(c1_5)\n",
    "p1 = tf.keras.layers.MaxPooling2D((2, 2))(bt1)\n",
    "dr1 = tf.keras.layers.Dropout(0.5)(p1)\n",
    "\n",
    "\n",
    "c2_1 = tf.keras.layers.Conv2D(80, (3, 3), activation='relu', kernel_initializer='he_normal', padding='same')(dr1)\n",
    "c2_2 = tf.keras.layers.Conv2D(80, (3, 3), activation='relu', kernel_initializer='he_normal', padding='same')(c2_1)\n",
    "c2_3 = tf.keras.layers.Conv2D(80, (3, 3), activation='relu', kernel_initializer='he_normal', padding='same')(c2_2)\n",
    "c2_4 = tf.keras.layers.Conv2D(80, (3, 3), activation='relu', kernel_initializer='he_normal', padding='same')(c2_3)\n",
    "c2_5 = tf.keras.layers.Conv2D(80, (3, 3), activation='relu', kernel_initializer='he_normal', padding='same')(c2_4)\n",
    "bt2 = tf.keras.layers.BatchNormalization()(c2_5)\n",
    "p2 = tf.keras.layers.MaxPooling2D((2, 2))(bt2)\n",
    "dr2 = tf.keras.layers.Dropout(0.5)(p2)\n",
    "\n",
    "c3_1 = tf.keras.layers.Conv2D(128, (3, 3), activation='relu', kernel_initializer='he_normal', padding='same')(dr2)\n",
    "c3_2 = tf.keras.layers.Conv2D(128, (3, 3), activation='relu', kernel_initializer='he_normal', padding='same')(c3_1)\n",
    "c3_3 = tf.keras.layers.Conv2D(128, (3, 3), activation='relu', kernel_initializer='he_normal', padding='same')(c3_2)\n",
    "c3_4 = tf.keras.layers.Conv2D(128, (3, 3), activation='relu', kernel_initializer='he_normal', padding='same')(c3_3)\n",
    "c3_5 = tf.keras.layers.Conv2D(128, (3, 3), activation='relu', kernel_initializer='he_normal', padding='same')(c3_4)\n",
    "bt3 = tf.keras.layers.BatchNormalization()(c3_5)\n",
    "p3 = tf.keras.layers.MaxPooling2D((8, 8))(bt3)\n",
    "dr3 = tf.keras.layers.Dropout(0.5)(p3)\n",
    "flatten1=tf.keras.layers.Flatten()(dr3)\n",
    "\n",
    "#DS layer\n",
    "ED = ds_layer.DS1(prototypes,128)(flatten1)\n",
    "ED_ac = ds_layer.DS1_activate(prototypes)(ED)\n",
    "mass_prototypes = ds_layer.DS2(prototypes, num_class)(ED_ac)\n",
    "mass_prototypes_omega = ds_layer.DS2_omega(prototypes, num_class)(mass_prototypes)\n",
    "mass_Dempster = ds_layer.DS3_Dempster(prototypes, num_class)(mass_prototypes_omega)\n",
    "mass_Dempster_normalize = ds_layer.DS3_normalize()(mass_Dempster)\n",
    "\n",
    "#Utility layer for testing\n",
    "outputs = utility_layer_test.DM_test(num_class, number_act_set, 0.9)(mass_Dempster_normalize)\n",
    "\n",
    "\n",
    "model_e_imprecise = tf.keras.Model(inputs=[inputs], outputs=[outputs])\n",
    "model_e_imprecise.compile(optimizer=keras.optimizers.Nadam(lr=0.001, beta_1=0.9, beta_2=0.999, epsilon=None, schedule_decay=0.004), \n",
    "              loss='CategoricalCrossentropy',\n",
    "              metrics=['accuracy'])\n",
    "model_e_imprecise.summary()"
   ]
  },
  {
   "cell_type": "code",
   "execution_count": 14,
   "metadata": {
    "colab": {
     "base_uri": "https://localhost:8080/"
    },
    "executionInfo": {
     "elapsed": 915,
     "status": "ok",
     "timestamp": 1617950072933,
     "user": {
      "displayName": "童峥",
      "photoUrl": "",
      "userId": "08916676345838244430"
     },
     "user_tz": -120
    },
    "id": "3a46jzvkjH6N",
    "outputId": "22fac9f7-ec3b-42d8-d595-360555067a3f"
   },
   "outputs": [
    {
     "name": "stdout",
     "output_type": "stream",
     "text": [
      "WARNING:tensorflow:Inconsistent references when loading the checkpoint into this object graph. Either the Trackable object references in the Python program have changed in an incompatible way, or the checkpoint was generated in an incompatible program.\n",
      "\n",
      "Two checkpoint references resolved to different objects (<ds_layer.DS2 object at 0x7f0a98248ad0> and <ds_layer.DS3_normalize object at 0x7f0a9499cf90>).\n"
     ]
    },
    {
     "data": {
      "text/plain": [
       "<tensorflow.python.training.tracking.util.CheckpointLoadStatus at 0x7f0a982d9f10>"
      ]
     },
     "execution_count": 14,
     "metadata": {
      "tags": []
     },
     "output_type": "execute_result"
    }
   ],
   "source": [
    "model_e_imprecise.layers[-1].set_weights(tf.reshape(utility_matrix, [1, 1023, 10]))\n",
    "model_e_imprecise.load_weights('/content/gdrive/My Drive/cifar10_evidential/weights_zoo/evidential_DL_200_checkpoint')"
   ]
  },
  {
   "cell_type": "markdown",
   "metadata": {
    "id": "niM7_jS5o2bz"
   },
   "source": [
    "When the tolerance of imprecision equals to 0.8, the average utility is higher than the one in precise classification, and we can find some samples that are mis-classified in the precise classification are assigned into the multi-class sets, which includes the true labels, such as sample 37 and 128."
   ]
  },
  {
   "cell_type": "code",
   "execution_count": 15,
   "metadata": {
    "colab": {
     "base_uri": "https://localhost:8080/"
    },
    "executionInfo": {
     "elapsed": 78220,
     "status": "ok",
     "timestamp": 1617950152889,
     "user": {
      "displayName": "童峥",
      "photoUrl": "",
      "userId": "08916676345838244430"
     },
     "user_tz": -120
    },
    "id": "aiHmgcs-jrcp",
    "outputId": "15c31a91-037f-40d6-e4b0-eac5b9b3d427"
   },
   "outputs": [
    {
     "name": "stdout",
     "output_type": "stream",
     "text": [
      "[[3], [8], [1], [0], [6], [6], [1], [2, 6, 9], [3], [1], [0], [9], [5], [7], [9], [8], [5], [7], [8], [6], [3, 7], [2], [4], [9], [4, 7], [2, 4, 7], [3], [0], [9], [6], [6], [5], [4, 6], [5], [9], [2, 6, 8], [4], [1], [9], [5], [0, 4], [6], [5], [6], [0], [9], [3], [9], [7], [6], [9], [8], [0], [3], [8], [8], [7], [3], [4], [0, 3, 4], [7], [7], [6], [3], [6], [2], [1], [2], [3], [7], [2], [6], [8], [8], [0], [2, 9], [9], [3], [5], [8], [8], [1], [1], [7], [2], [5], [2], [7], [8], [9], [0], [3], [8], [6], [4], [6], [6], [0], [0], [7], [4], [5], [6], [3], [1], [1], [3], [6], [8], [7], [4], [0], [6], [2], [1], [3], [0], [4], [2, 6], [7], [8], [3], [1], [2], [8], [0], [8], [3], [0, 4], [2], [4], [1], [8], [9], [1], [2], [9], [7], [2], [1], [6], [5], [6], [3], [8], [7], [6], [5], [5], [2], [8], [9], [6], [0], [0], [5], [2], [9], [2, 3], [4], [2], [1], [6], [6], [0], [4], [8], [4], [5], [8], [9], [0, 9], [9], [2, 6, 8], [9], [9], [3], [7], [5], [0], [0], [5], [2], [2], [3], [8], [2, 6], [3], [0, 3, 4], [0], [5], [8], [0, 4], [1], [7], [2, 9], [8], [8], [7], [8], [5], [1], [8], [7], [1], [3], [0], [5], [7], [9], [7], [0, 4], [5], [2, 8], [8], [2], [7], [9], [8], [2], [7], [6], [9], [4], [3], [9], [8], [4], [7], [6], [5], [1], [3], [8], [8], [0], [4], [0, 2, 9], [5], [5], [1], [1], [1, 8], [9], [0], [2, 3, 8], [1], [2, 8, 9], [2], [2], [5], [3], [9], [9], [4], [0, 8], [3], [0], [0], [9], [8], [1], [5], [7], [0], [8], [2], [4], [7], [0, 2], [2], [3], [6], [3], [8], [3], [0], [3], [4], [6], [9], [0], [6], [1], [0], [9], [1], [0], [7], [9], [1], [2, 9], [6], [9], [3], [4], [6], [0], [0], [6], [6], [6], [3], [2], [6], [1], [1, 8], [2], [1], [2], [8], [6], [0], [2], [4], [0], [7], [7], [5], [5], [3], [5], [2], [3], [4], [1], [7], [5], [4], [6], [1], [9], [3], [2, 6], [6], [9], [3], [8], [0], [7], [2], [6], [2], [5], [8], [5], [4], [6], [8], [9], [9], [1], [0], [2], [2], [4], [6], [2], [8], [0], [9], [5], [8], [1], [9], [4], [9], [3], [2, 6, 8], [1], [0, 4], [7], [9], [4], [2, 9], [7], [0, 2, 9], [7], [2, 6], [6], [6], [9], [0], [9], [5], [0, 8], [7], [2], [2], [5], [1], [2], [6], [2], [9], [6], [2], [3], [0], [3], [9], [1], [7], [8], [8], [4], [0], [1], [8], [2], [7], [9], [3], [6], [1], [9], [0], [7], [2, 3, 5], [7], [4], [5], [8], [0], [2], [9], [6], [3], [0], [6], [2], [5], [3], [7], [3], [7], [2], [5], [3], [1], [1], [4], [9], [9], [5], [7], [5], [0], [2], [0], [2], [9], [7], [3], [9], [5], [4], [5], [4], [2, 6], [5], [6], [1], [4], [3], [4], [4], [3], [7], [8], [5], [7], [8], [0, 8], [2, 5], [7], [6], [0, 9], [5], [4], [8], [6], [8], [3], [5], [9], [9], [9], [4], [0], [1], [0, 4, 7], [8], [1], [1], [8], [0], [2], [2], [0], [4], [6], [5], [4], [9], [4], [7], [9], [9], [4], [5], [6], [2, 6], [1], [5], [3], [8], [9], [4, 7], [8], [5], [7], [0], [7], [0], [5], [0], [0], [4], [6], [9], [0, 4], [9], [5], [6], [6], [6], [2], [8], [0], [1], [7], [6], [7], [5], [9], [1], [6], [2], [5], [3, 5], [3], [8], [5], [9], [4], [6], [4], [3], [2], [0], [7], [6], [0, 4], [2], [3], [9], [3, 7], [9], [2], [2, 6], [7], [1], [3], [6], [6], [8], [2, 9], [7], [5], [4], [0], [8], [4], [0], [9], [3], [4], [8], [9], [2, 6], [9], [2], [6], [1], [4], [7], [3], [2], [3], [8], [5], [0], [2], [1], [6], [4], [3], [3], [9], [6], [9], [8], [8], [5], [8], [6], [6], [0, 4], [1], [7], [7], [1], [2, 9], [7], [9], [9], [4], [4], [1], [2, 6, 8], [2, 5], [6], [8], [7], [6], [8], [3], [0], [5], [3], [3], [0], [7], [9], [1], [3], [4], [4], [5], [3], [9], [5], [6], [9], [2], [1], [1], [4], [1], [9], [4], [7], [6], [3], [0], [9], [0], [1], [3], [6], [4, 7], [2, 6, 8], [3], [2], [8], [3], [1], [0], [5], [1, 9], [6], [4], [0], [9], [2], [9], [6], [3], [0], [3], [2], [2], [7], [8], [3], [8], [2], [7], [5], [7], [2], [4], [8], [7], [4], [2], [9], [8], [2, 8], [2, 6], [0, 8], [2, 8], [7], [4], [2, 3], [3], [8], [4], [9], [4], [8], [8], [1], [8], [0], [1], [0], [6], [5], [4], [0], [7], [9], [1], [0], [1], [4], [1], [5], [2], [7], [0], [7], [2, 6, 9], [7], [3, 4, 6], [6], [2], [3], [9], [0, 2, 9], [9], [1], [2], [2], [6], [8], [2], [1], [3], [2, 6], [6], [0], [1], [2], [7], [0], [5], [4], [0, 2, 9], [1], [6], [4, 6], [0, 2, 9], [4], [2], [2, 6], [0], [5], [9], [1], [7], [6], [7], [0], [3], [9], [6], [8], [3], [0], [0], [4], [7], [7], [1, 2, 9], [4], [7], [6], [7], [1], [4], [7], [4], [4], [8], [4, 6], [7], [7], [2, 5], [2, 5], [7], [2], [0, 9], [8], [9], [2, 5], [8], [0], [2, 6], [2], [0], [8], [7], [3], [7], [6], [5], [3], [9], [3], [2], [2], [5], [4], [9], [2], [9], [2], [7], [0], [7], [2], [1], [0], [2], [0], [2], [4], [0], [9], [8], [1], [0], [7], [7], [0], [7], [8], [4, 7], [6], [3], [3], [0], [1], [3], [7], [0], [1], [3], [1], [4], [2], [3], [8], [4], [2], [3], [7], [8], [4], [0], [0], [1, 9], [0], [0, 9], [1], [1], [4], [4], [6], [7], [3], [1], [1], [3], [7], [3], [5], [2, 5], [6], [6], [5], [8], [7], [1], [6], [8], [8], [4], [3], [2, 6], [4], [0], [1], [4], [8], [8], [0], [6], [9], [9], [2, 9], [5], [3], [2, 6, 8], [6], [0], [0], [4], [2], [3], [2, 3], [7], [2], [2], [5], [9], [8], [9], [1], [7], [4, 6], [0], [3], [0], [1], [3], [8], [3], [9], [6], [1], [4], [7], [0], [2, 5], [7], [8], [9], [1], [1], [6], [6], [2, 6], [2, 3], [9], [1], [9], [9], [4], [2, 6], [1], [7], [0], [6], [8], [1], [9], [2], [9], [7], [4], [7], [8], [3], [1], [2], [0], [1], [5], [8], [3, 7], [2, 9], [3], [8], [1], [3], [8], [5], [0], [8], [4], [8], [1], [1], [8], [9], [6], [0], [8], [2, 6], [1], [3], [4], [1], [6], [0], [3, 7], [1], [1], [0], [0], [3], [5], [2, 6, 9], [0], [6], [6], [3], [0, 4], [6], [3], [3], [2, 6], [0, 4], [7], [2], [2], [2], [5], [5], [0], [8], [5], [2, 9], [1], [1], [1], [0, 3], [2, 9], [0], [3], [1], [5], [3], [7], [2, 6, 9], [8], [9], [1], [6], [4], [9], [3], [9], [0], [9], [6], [3], [2, 6], [8], [7], [2, 3], [8], [0, 8], [0], [0], [2, 6], [6], [6], [9], [2], [5], [4], [4], [6], [3], [6], [0], [8], [6], [0, 4], [2, 6], [2, 6], [7], [5], [1], [2], [4], [8], [8], [0], [9], [4], [9], [7], [2], [0], [2], [8], [4], [8], [9], [1], [5], [5], [7], [7], [5], [3], [8], [3], [3], [6], [0], [8], [4], [6], [7], [9], [2], [4], [1], [6], [9], [0, 9], [2, 3, 9], [8], [6], [1], [8], [6], [1], [4], [2], [9], [2], [7], [4, 6], [2, 6], [0], [8], [6], [9], [1], [7], [1], [8], [8], [0], [7], [5], [8], [0], [3], [3], [3], [7], [7], [9], [0, 4, 7], [3], [1], [9], [1], [9], [2, 6], [3], [3], [2], [1], [0], [3], [1], [4], [1], [0], [0], [1], [1], [6], [2, 3, 5], [4], [6], [2], [0], [7], [9], [8], [7], [2], [0], [6], [0, 8], [1], [4], [3], [7], [0], [2, 6], [1], [8], [5], [7], [8], [4], [8], [3], [2, 9], [9], [9], [8], [2, 4, 5, 7], [6], [6], [3], [2, 3], [1], [3], [9], [1], [4], [1], [5], [2, 5], [0], [1], [3], [2], [0, 8], [8], [8], [2, 5], [2, 6], [7], [2], [2], [4], [7], [2], [5], [8], [2], [4], [9], [2], [1], [8], [1], [9], [8], [8], [8], [1], [0], [4], [3], [3], [1], [8], [4, 7], [6], [3], [3], [2, 5], [2, 3], [2], [8], [5], [8], [9], [5], [8], [0, 9], [8], [9], [1], [2, 6, 9], [5], [9], [4], [4], [8], [0], [7], [2], [9], [0], [4], [1], [6], [4], [0, 4], [9], [1], [2], [5], [2, 6], [0], [2, 8], [6], [1], [9], [4], [5], [9], [5], [0], [7], [2], [0], [9], [4], [4], [6], [6], [5], [5], [2], [8], [1], [7], [2], [1], [4], [3], [6], [3, 7], [1], [0, 4], [7], [0], [9], [4], [3], [8], [2], [8], [4], [7], [2], [3], [1], [3], [2], [9], [8], [9], [7], [9], [5], [1], [4], [0], [8], [2, 9], [3], [8], [9], [1], [1], [3], [2], [4], [9], [3], [1], [7], [4], [6], [2], [8], [9], [5], [3], [9], [5], [5], [6], [7], [2], [4], [5], [3], [1], [2], [0], [0], [5], [4], [7], [6], [1], [1], [9], [8], [1], [0], [1], [3], [1], [1], [1], [7], [3], [9], [6], [8], [4], [6], [0, 8], [4], [9], [4], [7], [9], [7], [2, 6], [8], [4], [9], [4, 7], [0], [1], [6], [1], [5], [1, 9], [0], [4], [3], [4, 6], [1], [4], [0], [8], [4], [6], [2], [2], [6], [5], [3], [6], [7], [1], [1], [8], [2, 6], [0], [4], [0], [1], [9], [7], [1], [3], [5], [5], [8], [4, 7], [7], [3], [9], [7], [7], [7], [0, 2, 9], [1], [2], [8], [6], [4], [0], [7], [9], [8], [2], [8], [0, 4], [1], [1], [2, 9], [0, 2, 9], [0, 3], [8], [5], [8], [1], [3], [2], [3], [1], [2], [7], [2, 9], [8], [1], [8], [1], [8], [6], [0], [2], [4], [1], [3], [6], [7], [4], [4], [4], [3], [3], [4], [3], [2], [4], [3], [7], [8], [4], [4], [4], [2, 5], [4], [2], [2], [8], [4], [5], [5], [4], [1], [4], [2], [3], [9], [6], [4], [3], [4], [4], [0], [8], [8], [4], [5], [7], [5], [6], [9], [1], [6], [7], [2], [0], [1], [4, 7], [5], [6], [0, 9], [0], [2], [3], [3], [6], [0], [2, 6], [2, 3, 8], [9], [1], [4, 7], [7], [5], [2], [5], [6], [4], [1], [4], [3], [3], [3], [0], [3], [5], [5], [8], [9], [7], [3], [1], [3], [2, 4, 5], [3], [4], [4], [3], [3], [3], [1, 8], [1], [7], [7], [0], [2, 5, 7], [4], [5], [1], [4, 7], [2], [4], [3], [0, 9], [9], [4], [9], [9], [1], [8], [1], [6], [7], [2, 5], [5], [4], [9], [7], [6], [5], [9], [2, 6], [4], [0], [7], [8], [5], [5], [0], [0], [9], [9], [8], [0, 4], [5], [4], [8], [3], [6], [3], [6], [0], [2, 6], [6], [6], [9], [6], [4], [8], [6], [2], [4], [5], [8], [1], [2], [7], [6], [5], [7], [0, 8], [1, 8], [2], [0], [8], [6], [9], [0], [8], [9], [4], [0], [9], [0, 4, 7], [9], [5], [7], [5], [5], [9], [5], [3], [0], [1], [9], [3, 7], [2], [4], [1], [0], [1, 8], [0, 2], [4, 5], [1], [7], [8], [0], [4], [4, 7], [2, 6], [3], [4], [0], [0], [9], [0], [8], [4], [3], [1, 9], [3], [9], [0], [5], [2, 9], [5], [0], [1], [4], [8], [1], [0], [5], [2], [1], [0], [2], [8], [1], [5], [6], [7], [7], [5], [3], [2], [5], [0], [1], [4], [2], [5], [2], [3], [2, 6], [2], [1], [7], [2], [9], [5], [5], [3], [0], [4], [8], [5], [7], [6], [3], [8], [1], [0], [1], [3], [3], [0], [7], [2, 6], [9], [5], [3], [2, 6, 8], [0], [1], [4], [4], [4], [4], [2], [2, 5], [0, 4, 5, 7], [8], [1], [5], [9], [8], [1], [1], [7], [3], [1], [9], [3, 7], [6], [5], [0], [8], [4], [2, 9], [0], [9], [2], [8], [4], [4, 7, 8], [1], [2, 5], [9], [2, 6], [8], [9], [0], [4], [6, 9], [2, 6, 8], [7], [8], [1], [4], [8], [9], [4], [2], [5], [3], [7], [9], [0], [2, 9], [9], [5], [5], [8], [5], [0, 4, 7], [2], [8], [3], [4], [2], [7], [7], [8], [6], [7], [8], [2], [3], [5], [6], [8], [0], [2], [3], [7], [0], [1], [9], [1], [6], [2, 5], [3], [2, 9], [3], [2], [9], [6], [8], [6], [9], [3], [0], [9], [2, 8], [0, 4], [7], [8], [5], [0], [0], [1], [3], [9], [1], [5], [3], [4], [4], [0], [9], [9], [9], [9], [8], [2], [4], [2], [2], [5], [1], [3], [1], [0], [9], [4], [2], [1], [6], [0], [3], [2], [2], [3], [1], [0], [2], [5], [7], [2], [8], [4], [7], [8], [3], [5], [0], [5], [7], [4], [4], [2], [2], [7], [3, 7], [6], [0], [2], [7], [6], [2], [3], [0, 9], [7], [7], [2, 8], [9], [1], [4, 6], [2, 6], [0], [6], [6], [5], [5], [6], [3], [9], [3], [2, 6], [3], [7], [6], [4], [9], [5], [6], [4], [1], [6], [2, 3], [8], [2], [3], [9], [2, 6, 8], [5], [1], [5], [0, 4], [5], [7], [3], [4, 7], [8], [9], [1], [2], [2], [5], [6], [8], [4], [6], [5], [3], [9], [9], [8], [2, 5], [3], [2, 6], [4], [5], [9], [7], [3], [4], [1], [0], [2], [4], [6], [3], [5], [2], [8], [0], [0], [1], [8], [3], [1], [2, 3, 5], [5], [2, 8], [3], [8], [5], [8], [6], [3], [5], [5], [5], [0], [0, 2, 9], [5], [2, 5], [7], [1], [8], [0, 4], [2], [4, 7], [3, 5, 9], [4], [2], [9], [6], [2], [2], [4], [3], [0], [2, 6], [0], [1], [3], [2], [2], [7], [0], [1], [0], [7], [7], [0, 7], [2], [1], [6], [5], [0], [2, 9], [2], [0], [1], [2], [6], [0], [1], [6], [6], [5], [3], [4], [0], [0], [1], [1], [0], [2], [5], [9], [7], [8], [6], [4], [6], [0], [2], [0], [1], [9], [2], [6], [9], [0], [7], [2], [3], [4], [8], [0, 8], [2], [6], [8], [9], [7], [1], [9], [3], [7], [2], [7], [9], [6], [9], [0, 8], [7], [8], [5], [2, 9], [8], [3], [9], [0], [0], [3], [5], [7], [1], [0], [2], [7], [5], [8], [2], [2], [3], [3], [1, 8], [2, 5], [1], [9], [3], [1], [4], [0], [4], [4], [9], [0], [1], [3], [9], [2], [1], [4, 5], [0], [2], [8], [4], [8], [2, 6], [8], [2], [2], [5], [9], [6], [9], [3], [1], [2, 3, 6], [4], [4], [2], [7], [2], [4], [2, 5], [0], [2], [8], [4], [5], [1], [2], [6], [8], [1], [7], [6], [8], [7], [4, 7], [3], [3], [3], [5], [7], [2], [2, 5], [2, 6], [1], [7], [1, 9], [0], [2, 3, 6], [4, 7], [9], [8], [0, 9], [5], [0, 8], [0], [7], [3], [3], [3], [8], [1], [4], [0], [1], [5], [4, 7], [3], [4], [6], [0], [8], [8], [2, 3, 6], [3], [3], [2], [9], [7], [2, 5], [1], [6], [0], [5], [9], [9], [4], [5], [9], [4, 7], [8], [3], [3], [2], [5], [1], [9], [5], [5], [1], [1], [8], [9], [7], [0], [3], [3], [2], [0], [2], [6], [9], [3], [9], [1], [3], [6], [7], [2], [6], [3], [2], [2, 5], [5], [2], [7], [5], [2, 8], [0], [8], [2], [7], [7], [1], [7], [4], [0], [4, 7], [2], [6], [1], [2, 5], [9], [7], [6], [2], [7], [0], [5], [6], [0], [1], [1], [8], [4], [5], [0], [1], [4], [4], [8], [9], [8], [1], [3, 4, 7], [2], [7], [0], [0, 2, 4], [2], [6], [7], [9], [4], [0], [1], [0], [4], [2, 5], [0], [8], [0], [7], [6], [1], [0, 8], [8], [5], [9], [4], [5], [4], [0, 4], [9], [0], [6], [1], [2], [5], [1], [6], [7], [1], [5], [8], [8], [0], [3], [9], [0, 4], [0], [6], [4], [9], [2], [4], [3], [0], [2, 6], [4, 6], [4], [6], [6], [7], [8], [3], [8], [8], [7], [2], [8], [0], [2], [5], [6], [8], [7], [2, 8], [9], [9], [0], [0], [6], [8], [1], [1], [7], [4, 6], [4], [2, 9], [2, 5], [6], [9], [2, 6], [2], [4], [1], [8], [2], [3, 4, 5], [1], [6], [8], [6], [8], [5], [9], [0], [1], [0], [0, 4], [9], [2, 9], [9], [2], [9], [7], [8], [5], [8], [6], [6], [8], [1], [6], [5], [8], [5], [1, 9], [2], [1], [6], [7], [5], [2, 6], [3], [0], [9], [8], [9], [5], [8], [9], [9], [3], [6], [4, 6], [4], [8], [8], [1], [7], [3], [0], [4, 6], [0, 9], [4], [1], [2], [2], [9], [2], [2], [9], [7], [4], [1], [3], [1], [0, 4], [3], [1, 8], [2, 5], [8], [9], [3], [2], [2], [0, 1], [2], [9], [0], [5], [1], [2, 5], [8], [2], [1], [0, 8], [3], [2], [4], [8], [4], [0], [6], [4], [2, 6], [9], [8], [4], [7], [6], [2], [4], [7], [7], [6], [0, 4], [2], [2], [3], [2], [4, 5], [9], [0], [0, 2], [1], [2, 6], [3], [8], [5], [2], [4], [8], [8], [6], [0, 4], [5], [7], [6], [3], [4], [0], [4], [0], [3], [8], [4, 7], [8], [0], [4], [2, 9], [3], [6], [2, 3, 6], [8], [1], [6], [0], [8], [4], [3], [1], [4], [5], [2], [4], [3], [6], [0], [7], [1], [3], [5], [7], [1], [8], [0], [4], [8], [2], [7], [7], [0], [2, 6], [2], [4], [3, 5], [3], [1, 9], [3], [1], [6], [4], [2, 6], [7], [4], [7], [0], [8], [1], [3, 7], [1], [4], [6], [2, 9], [5], [7], [4], [5], [4], [9], [7], [7], [2], [3], [3], [6], [7], [2], [1], [6], [1], [0], [6], [9], [6], [0, 8], [2], [0], [4, 6], [3, 6], [7], [0], [2], [0], [0], [0, 4, 7], [5], [3], [2], [7], [8], [5], [5], [2, 6], [2], [8], [9], [1], [2], [2], [0], [3], [4], [9], [1], [6], [9], [0], [0, 8], [3], [6], [4], [6], [7], [5], [1], [8], [9], [0], [5], [0], [5], [4], [3], [8], [5], [0, 3], [0], [8], [5], [9], [2], [5], [6], [5], [7], [3], [7], [2], [1, 8], [8], [4], [2], [1], [2, 6], [2], [9], [9], [8], [2, 9], [3], [1], [0], [5], [2], [4, 7], [3], [9], [5], [9], [1], [1], [3], [2], [7], [7], [4], [1], [9], [4], [3], [5], [2, 9], [7], [7], [6], [1], [3], [4], [7], [5], [4], [0], [7], [7], [0, 8], [0], [1], [5], [4], [3], [7], [9], [8], [7], [0], [9], [0], [3], [7], [6], [5], [8], [4], [5], [6], [5], [5], [4], [2], [9], [2], [5], [0, 9], [2], [0], [1], [1], [3], [7], [9], [5], [1], [6], [0], [3], [3], [7], [2, 6], [4], [5], [2], [3], [6], [0], [3], [0], [4], [1], [3], [8], [1], [2], [3], [2], [7], [1], [2], [5], [6], [8], [6], [6], [5], [4], [2], [9], [1, 8], [6], [2], [0], [4], [1, 9], [5], [5], [6], [6], [5], [6], [9], [4, 7], [9], [0, 4], [8], [3], [1], [9], [8], [1], [9], [0], [3], [0], [4], [7], [7], [2], [6], [5], [6], [9], [7], [7], [5], [7], [0], [8], [6], [2, 5], [8], [3], [8], [9], [5], [2], [9], [2], [7], [4], [1], [9], [7], [0], [0, 8], [1], [2, 6], [0], [2, 6], [5], [1], [4], [2], [8], [2], [8], [3], [2, 5], [1], [4], [9], [8], [1], [1], [0, 2, 9], [9], [9], [4], [6], [8], [5], [5], [2], [2], [0], [8], [5], [1], [9], [7], [9], [1], [3], [3], [1], [0], [3], [8], [9], [2], [0], [2, 9], [2], [0, 2, 9], [2, 9], [4, 7], [8], [3], [0], [7], [0], [7], [0, 2, 9], [5], [5], [4], [3], [0], [9], [9], [0], [2, 6], [7], [0], [8], [0, 2, 9], [4], [5], [2], [2], [1], [0, 4], [5], [3], [4], [3], [4], [0], [8], [4], [8], [5], [5], [4, 6], [5], [1], [7], [2], [4], [0], [5], [6], [8], [7], [6], [2, 3, 9], [1], [3, 7], [3], [6], [0, 4], [5], [5], [3], [1], [8], [7], [3], [0], [2, 6], [7], [1], [1], [9], [6], [7], [2, 6], [1], [2], [3], [9], [8], [3], [1], [7], [4], [8], [4], [7], [5], [8], [6], [2], [5], [0], [2, 6, 8], [2, 6], [4], [4], [9], [4, 6], [6], [1], [3], [7], [7], [9], [2], [1], [3], [1], [3], [2], [4], [0], [7], [1], [3], [1], [3], [2], [1], [8], [8], [1], [9], [3, 7], [3], [3], [2, 6], [9], [0], [6], [8], [4], [1], [5], [7], [0, 2], [4], [7], [0, 8], [4], [9], [0], [7], [0, 4], [2, 6], [7], [1], [8], [5], [8], [8], [7], [0], [0], [2, 3], [2], [2, 5], [7], [0], [6], [4], [4], [9], [1], [8], [6], [3], [9], [4], [9], [3], [3, 5], [7], [5], [9], [7], [7], [4], [5], [8], [2, 9], [8], [9], [5], [3], [1], [9], [3], [2], [0], [1], [1], [8], [1], [1], [0, 9], [8], [9], [9], [8], [2], [6], [9], [1], [9], [0, 9], [1, 2, 9], [9], [2], [0, 2, 9], [2, 9], [9], [0], [9], [9], [2], [1], [7], [0], [5], [6], [6], [9], [8], [3], [0], [2], [2], [7], [4], [8], [5], [0], [4], [2], [3], [5], [7], [6], [6], [6], [5], [6], [3], [4], [3, 5], [8], [8], [3], [0, 2, 9], [3, 5, 7], [9], [2, 9], [6], [9], [2, 6], [1], [3], [7], [8], [0], [3], [5], [4, 7], [7], [6], [9], [8], [2], [3], [9], [3], [3], [7], [8], [3], [2, 3, 5], [2, 3, 5], [1, 9], [6], [1], [4], [7], [4, 7], [8], [7], [7], [1], [3], [0], [3], [2], [5], [4], [9], [3], [5], [4], [7], [0], [3], [7], [0], [2], [1], [2, 5], [8], [7], [3], [5], [7], [8], [5], [7], [8], [1], [3], [4], [7], [0], [8], [3], [2], [0, 2, 9], [2], [4], [1], [6], [5], [9], [8], [5], [5], [4], [1], [0], [9], [4], [4, 6], [3], [0, 4], [2, 4, 8], [0, 2, 8], [0], [4, 8], [2], [9], [3], [9], [7], [7], [6], [3], [9], [2], [9], [3], [7], [7], [8], [2, 9], [2, 9], [0, 2, 8], [2], [5], [3], [6], [4], [7], [2], [2], [7], [8], [7], [2], [5], [9], [0, 4], [7], [0], [3], [6], [1], [0, 8], [2], [9], [7], [0, 4], [9], [1], [2, 6], [8], [1], [0, 4], [3], [3], [5], [4], [8], [9], [3, 7], [0, 4], [4], [1], [3], [4], [9], [2, 8], [7], [9], [3], [1], [2], [1], [6], [6], [6], [5], [7], [4], [5], [8], [5], [2], [8], [7], [8], [2], [3], [6], [1], [3, 5], [3], [9], [5], [1], [9], [0], [9], [0], [0], [2, 6, 8], [2], [4], [8], [5], [7], [6], [1], [2], [9], [4], [5], [0], [3], [3], [7], [4], [7], [1], [4], [5], [0], [2, 5], [8], [5], [0], [0], [6], [2], [0], [8], [4], [5], [4], [5], [6], [4], [7], [9], [4], [2, 3, 6], [0], [2, 6], [4], [2], [0], [2, 5], [4], [6], [1], [1], [5], [5], [2], [2], [6], [3], [4], [5], [0], [1], [3], [2], [0, 7, 9], [9], [6], [5], [0], [2], [9], [7], [1], [7], [2], [2], [0], [2, 8], [6], [4], [3], [2], [4], [7], [0], [4], [1], [6], [5], [1], [2, 9], [0, 4], [3], [9], [0], [0, 2, 9], [2], [0], [0, 2, 9], [4], [0], [1], [9], [8], [4], [9], [4], [3], [4], [3], [3], [4], [0], [4], [3], [5], [8], [9], [1], [5], [8], [1], [8], [2], [4], [4], [2], [4], [1], [1], [6], [6], [8], [5], [2], [2], [5], [0], [8], [2], [3], [6], [2], [9], [6], [1], [4], [5], [9], [0], [1], [7], [0], [8], [1], [1], [6], [6], [9], [5], [0, 4], [9], [7], [8], [6], [9], [1], [7], [6], [0], [9], [3], [2], [3], [2], [0], [3], [4], [9], [7], [1], [4], [4], [6], [1], [3], [8], [8], [5], [6], [5], [7], [4, 6], [7], [2], [3], [2, 5], [2, 5], [2, 6], [2], [7], [3, 6], [0, 4], [3], [6], [2, 9], [6], [3], [2, 9], [0], [9], [5], [1], [1], [5], [3], [2, 5], [4], [3], [2], [1], [0], [0, 4], [3], [5], [4], [8], [9], [3], [3], [1], [8], [0], [1], [3], [3], [4, 7], [4, 7], [2], [9], [7], [6], [8], [1], [8], [9], [9], [3], [1], [7], [3], [0], [0], [2], [0, 9], [5], [9], [2], [7], [4], [6], [0], [1], [6], [1], [6], [7], [5], [5], [2], [2, 5], [9], [4], [0], [2], [3], [4], [0, 9], [4], [1], [0], [0], [2], [3], [2, 5], [9], [2], [8], [9], [5], [7], [9], [1], [4], [2, 6], [2], [8], [3], [4], [8], [9], [3], [1], [1], [6], [3], [8], [4], [6], [4], [5], [2], [6], [4], [2], [3], [2, 9], [3], [6], [8], [5], [2], [2], [7], [1], [2, 6], [2], [5], [9], [4], [8], [1], [6], [9], [2], [7], [3], [3], [2], [9], [7], [0], [2], [9], [3], [4], [1], [7], [9], [5], [8], [9], [7], [3], [3], [0], [9], [7], [4], [2], [4], [7], [0], [1], [8], [1], [0], [4], [6], [1], [9], [9], [0], [1], [2], [5], [6], [9], [7], [7], [3], [4], [2], [0], [2], [5], [7], [7], [4], [7], [1], [4], [2], [0], [6], [1], [7], [5], [6], [5], [2, 5], [9], [2], [7], [8], [5], [9], [2], [8], [5], [4], [3], [7], [9], [8], [1], [2], [2], [8], [9], [3], [0], [8], [4, 7], [0], [2], [0], [1], [4, 6], [2, 9], [8], [5], [5], [7], [9], [2, 6, 8], [3], [7], [9], [1], [5], [6], [9], [9], [7], [2], [0, 8], [9], [0], [8], [5], [9], [2, 5], [2], [9], [8], [1], [9], [1], [8], [3], [7], [6], [4], [2, 9], [3], [7], [0], [3], [5], [8], [8], [8], [7], [9], [6], [2, 9], [7], [4], [5], [7], [6], [7], [1], [7], [3], [6], [8], [4], [6], [6], [7], [1], [3, 6], [9], [3, 7], [1], [7], [0], [1], [2, 6], [3], [2, 5, 7], [9], [0], [1], [2, 5], [5], [2], [2], [3], [4], [9], [8], [5], [4], [4], [9], [7], [6], [7], [3, 7], [1], [0], [3, 7], [5], [1], [9], [2, 6], [3], [3], [1], [5], [6], [6], [2], [4], [6], [8], [8], [9], [6], [2, 6], [1], [0], [7], [5], [8], [2], [1], [3], [8], [1], [4], [3], [5], [0], [3], [0], [9], [5], [2], [8], [4, 7], [1], [9], [0], [4], [4], [8], [2], [9], [0], [7], [9], [8], [7], [1], [6], [2], [9], [2, 9], [5], [9], [7], [6], [7], [7], [1], [1], [2], [4], [2], [0], [6], [8], [3], [6], [0, 2], [2], [9], [4, 7], [2], [4], [0], [0], [5], [8], [6], [8], [2], [7], [2, 8], [3], [1], [8], [1], [6], [5], [9], [7], [8], [9], [6], [5], [8], [1], [9], [4], [0], [4], [1], [4], [3], [6], [2], [2], [0], [0], [9], [7], [0], [7], [4], [3], [2], [7], [7], [4], [5], [4], [3], [3], [5], [4], [0], [0], [0], [7], [7], [1], [6], [5], [0], [7], [7], [4], [2, 6], [1], [8], [5], [9], [3], [5], [6], [5], [2], [7], [2, 3], [5], [8], [1], [0], [6], [8], [7], [8], [8], [5], [7], [5], [4], [9], [7], [3], [3], [8], [8], [4, 6], [9], [4], [7], [2], [0], [8], [0], [7], [0, 8], [3], [2, 6], [5], [2], [0, 4], [2, 3, 5], [0], [4], [8], [2, 6], [4], [0], [6], [4], [4, 7], [6], [0], [1, 8], [0, 8], [0], [6], [1], [1], [6], [1], [4], [2], [1], [2], [2], [4], [4], [0, 4], [3], [8], [2, 8], [5], [1], [8], [2], [2, 3], [3], [9], [6], [6], [3], [0], [7], [3], [3], [2], [7], [4], [5], [6], [0], [2], [1], [8], [1], [0], [9], [3, 5], [1], [0], [5], [0, 4], [0, 4], [3], [3], [6], [7], [2, 6], [0], [0], [5], [7], [4], [7], [7], [0], [6], [1], [3], [9], [0, 9], [9], [0], [3], [8], [4], [0, 8], [8], [4], [1], [0], [2], [2], [4], [1], [1], [2], [4], [3], [4], [1], [4], [7], [1], [0], [0], [9], [0], [4], [2], [8], [8], [5], [5], [0], [4], [0], [8], [6], [2], [5], [9], [2], [9], [1], [1], [2, 5], [4], [7], [5], [8], [6], [7], [1], [5], [5], [5], [4], [1], [0], [9], [9], [8], [9], [8], [6], [8], [5], [8], [9], [4], [6], [2], [6], [3], [0, 4, 7], [4], [0], [0], [1], [7], [5], [1], [5], [1], [3], [1], [2, 6], [0, 8], [2], [2, 9], [6], [9], [1], [2, 9], [9], [1], [7], [2], [6], [1], [9], [0], [0], [1], [9], [9], [0], [8], [4, 6], [5], [2, 3, 5], [3], [0], [3], [3], [0], [4], [4], [7], [5], [0, 4], [1], [0], [8], [8], [1], [2], [1], [5], [4], [5], [9], [6], [7], [1], [0], [6], [9], [2, 9], [7], [7], [3], [9], [9], [1], [9], [7], [0], [1], [3], [5], [4], [6], [3], [8], [0, 8], [0], [4], [8], [3], [6], [3], [3], [0], [3], [5], [2], [6], [8], [4], [9], [9], [9], [2, 6], [0], [4, 6], [2, 9], [8], [1], [1], [0], [0], [0, 3], [0, 4, 7], [4], [1], [1], [9], [7], [7], [4], [6], [8], [6], [0], [2], [8], [5], [2], [5], [3], [5], [7], [9], [8], [4], [4], [3], [1], [4], [8], [4], [2, 6], [5], [3], [8], [8], [9], [5], [7], [6], [2], [0], [0, 4], [9], [9], [0], [5], [2], [3], [2, 6], [1], [1], [0], [2], [8], [2], [1], [1], [7], [5], [2], [3], [4], [1], [2], [9], [2], [1], [0, 2, 9], [4], [8], [9], [0], [0], [4], [1], [0], [2], [2], [0], [6], [8], [7], [3], [3], [8], [9], [0], [2, 5], [0], [3], [6], [1], [3], [9], [5], [0], [5], [4], [4], [0, 8], [1], [0, 3], [2], [1], [7], [9], [9], [2, 6], [2], [4], [3, 7], [1, 8], [3], [4], [7], [0], [2, 5], [8], [2], [8], [5], [8], [8], [8], [3], [3], [7], [7], [3], [0], [4], [1], [5], [9], [7], [0], [2, 6], [8], [4], [9], [0], [1], [8], [9], [6], [3], [9], [2], [4], [4], [0], [5], [3], [3, 4, 7], [4], [5], [1], [1], [8], [2], [2], [9], [3], [7], [8], [9], [2], [3], [1], [7], [3], [0], [2, 4, 5], [0, 4], [1], [9], [5], [5], [3], [4], [3], [2, 6, 8], [0], [0], [3], [1], [3], [4], [7], [4], [2], [8], [4], [8], [9], [9], [4], [2], [4], [3], [2, 6], [4], [6], [4], [6], [6], [3, 7], [8], [7], [4], [8], [0, 2, 9], [5], [9], [3], [0, 2, 9], [0], [7], [5], [1], [9], [7], [9], [1], [1], [4], [2], [1], [6], [4], [3], [3], [1], [4], [9], [6], [1], [5], [1], [5], [4], [4], [3], [3], [9], [7], [8], [2], [5], [4], [4], [5], [4], [2, 5], [7], [2], [5], [3], [1], [5], [7], [8], [3], [6], [0], [2], [5], [2], [2, 5], [7], [4], [2], [1], [6], [8], [6], [8], [3], [2], [7], [7], [9], [7], [1], [4], [7], [3], [2, 6], [1], [5], [3], [0], [0], [6], [6], [8], [6], [6], [0], [3], [4], [7], [4], [1, 8], [4, 7], [9], [9], [3], [4], [1], [4], [0, 8], [3], [7], [1], [2], [2], [0, 8], [4], [7], [8], [5], [5], [6], [5], [6], [0], [6], [4], [9], [4], [2], [7], [3], [8], [3], [9], [4], [1], [6], [9], [9], [4], [3], [9], [0, 8], [1], [6], [9], [5], [1], [0], [9], [7], [2, 5], [2, 5], [4], [2, 6], [6], [4], [8], [1], [9], [5], [6], [3], [1], [8], [6], [0], [7], [6], [5], [0, 2, 9], [3], [2, 9], [6], [1], [2, 9], [2], [1], [2, 6], [4], [9], [0], [4, 7, 8], [9], [1], [0], [5], [3], [1], [6], [9], [8], [9], [0], [6], [1], [6], [2], [3], [5], [6], [1], [0], [7], [2], [4], [0, 8], [3], [2, 6, 8], [8], [6], [9], [1], [2, 9], [0], [2, 6, 9], [2], [3], [9], [5], [0, 4, 7], [1], [9], [2], [0], [7], [3], [5], [1], [8], [2, 3], [0], [5], [2], [9], [8], [0], [9], [6], [0], [3], [5], [3], [4], [1], [3], [0], [7], [3], [9], [4], [5], [3], [1], [4], [2, 6], [4], [9], [9], [7], [1], [7], [0], [1], [2], [1], [5], [3], [2, 6, 8], [4], [1], [3], [1], [9], [9], [7], [0], [1], [7], [6], [2], [6], [5], [0], [0, 3], [1], [0], [8], [9], [9], [0], [8], [8], [7], [9], [2], [9], [1], [3], [6], [7], [6], [0], [8], [6], [2], [4], [2], [3], [5], [5], [4], [1], [6], [4], [1], [2, 6], [1], [7], [1], [2, 6], [2], [3], [0], [4], [2, 6], [9], [7], [3], [5], [6], [0], [0, 2, 9], [8], [1], [1], [3], [5], [2, 6], [3], [3], [8], [7], [2, 5], [0, 9], [7], [7], [5], [7], [1], [9], [9], [1], [1], [9], [3], [5], [3], [3], [0], [9], [0], [6], [6], [2, 5], [6], [8], [9], [4], [2, 5], [1], [1], [2], [2, 6], [9], [0], [1], [2], [5], [4], [4], [7], [4], [8], [3], [2], [4, 7], [4], [5], [7], [0], [1], [2], [9], [2, 6, 8], [1], [5, 7], [3], [5], [9], [1], [9], [1], [9], [3, 7], [6], [7], [4], [0, 8], [3], [2, 5], [6], [7], [0], [1], [7], [7], [3], [2, 5], [3], [2, 5], [1], [7], [6], [0, 8], [4], [4], [5], [4, 7], [3], [4], [7], [7], [3], [6], [0, 2, 9], [7], [2], [6], [7], [4], [1], [8], [0], [2], [2, 6], [1], [5], [4], [0], [9], [3], [0, 8], [4], [2], [3], [8], [5], [0], [0], [4], [6], [3], [9], [2], [0], [5], [7], [5], [5], [1], [7], [3], [1], [2, 6], [7], [9], [0], [1], [2], [1], [4], [6], [1], [5], [9], [5], [0], [4], [9], [4], [9], [7], [1], [2, 6], [8], [0], [6], [5], [2], [8], [1], [7], [5], [6], [9], [3, 8], [2], [3], [9], [8], [6], [1], [0, 2, 9], [9], [0, 8], [9], [8], [7], [7], [2], [2, 5], [3], [5], [3, 5], [7], [2, 8], [7], [2, 5], [9], [1], [9], [8], [6], [5], [6], [7], [0, 3, 7], [6], [7], [2], [0], [9], [6], [6], [7], [0], [1], [0, 4], [1], [3], [4, 6], [8], [6], [1], [2], [2, 5], [1], [9], [9], [8], [6], [8], [3], [8], [9], [2, 5], [4], [0], [3], [3], [6], [4], [0, 2, 9], [9], [7], [0, 4], [3], [5], [2, 6], [4], [6], [0], [3], [3], [5], [0], [2, 6], [0], [2], [7], [2], [9], [2], [4], [0], [2, 6], [6], [3], [4], [5], [5], [9], [1], [9], [4], [2, 5], [3], [5], [4], [8], [0], [0], [3], [9], [2], [7], [4, 7], [2], [8], [3], [6], [3], [1], [9], [6], [3], [0, 8], [3], [3], [4], [7], [2, 5], [0, 4, 7], [7], [2], [1], [2], [6], [1], [5], [2, 9], [0], [7], [5], [0], [0], [0], [1], [2, 6], [3], [3], [8], [4], [3], [1], [7], [1, 6, 9], [0], [4], [0], [4], [1], [4], [0], [1], [2], [1], [7], [7], [9], [8], [7], [5], [4, 7], [0], [9], [0], [0], [8], [2], [0], [0], [2, 9], [0, 4], [8], [6], [2], [4, 7], [6], [3], [5], [1], [3], [0, 2, 9], [7], [2], [2], [9], [8], [0], [0], [0], [3], [4], [4], [6], [1], [6], [4, 7], [4], [4], [2, 5], [9], [4], [0], [8], [0], [4], [6], [2, 5], [7], [9], [7], [0], [5], [7], [7], [3], [1], [9], [2, 5], [2], [9], [5], [3], [7], [9], [4], [4, 7], [9], [7], [7], [1], [4, 7], [1], [4, 7], [8], [7], [4], [0], [4], [7], [2], [9], [7], [6], [9], [3], [5], [1, 8], [0], [3, 7], [6], [8], [3], [2], [4], [7], [1], [1], [3], [9], [7], [0, 2], [1], [0, 2, 8], [8], [7], [0], [1], [6], [9], [3], [2], [7], [7], [8], [1], [0], [3], [2, 5], [6], [7], [3, 5], [2], [0], [1], [5], [2, 5], [1], [4], [1], [3], [0], [8], [2, 6], [2, 5], [1], [4, 6], [6], [4, 7], [1], [9], [0], [4], [1], [0], [1], [9], [0, 8], [6], [9], [2], [4], [7], [2], [0], [7], [4, 7], [9], [1], [2, 5], [2, 6], [6], [3], [4, 6], [4], [1], [4, 7], [8], [2], [6], [6], [1], [6], [5], [6], [3], [8], [4], [6], [7], [1], [9], [5], [6], [4, 7], [6], [0], [7], [1], [9], [3], [2], [4, 6], [7], [7], [6], [5], [9], [1], [5], [6], [0], [2], [2], [9], [1], [8], [4, 6], [3], [3], [0], [0], [5], [7], [7], [2, 8], [5], [3], [5], [1], [6], [1], [3], [1], [0], [6], [2], [3], [2], [1], [3, 7], [5], [1], [9], [8], [3], [4], [9], [7], [3], [0], [2], [6], [9], [4], [4], [3], [9], [6], [8], [6], [6], [8], [2, 5], [4], [5], [6], [7], [7], [4], [6], [9], [6], [2], [4], [0], [1], [3], [6], [4], [9], [2], [2, 6], [0], [3, 7], [8], [7], [5], [3], [3], [8], [2, 5], [2, 9], [6], [3], [6], [2, 5], [7], [4], [5], [7], [9], [0], [0, 4], [6], [7], [0, 2, 9], [0], [3], [5], [7], [5], [5], [2, 9], [4], [6], [4], [2, 5], [3], [5], [6], [4], [1], [6], [3], [1], [6], [7], [0], [5], [0, 2], [1], [9], [7], [3], [5], [2], [3], [2, 9], [5], [6], [2], [0], [0], [0], [0, 8], [0], [3], [2], [4, 6], [5], [3], [7], [9], [6], [9], [3], [1], [2], [2], [7], [4], [5], [1], [3], [7], [2, 6], [9], [5], [8], [5], [8], [5], [8], [5], [6], [5], [0], [8], [6], [1, 8], [1], [8], [1], [5], [0], [9], [0, 8], [6], [3], [6], [2, 5], [4], [5], [7], [4, 7], [7], [4], [3], [2, 3], [4], [4], [5], [7], [5], [0, 4], [5], [8], [0], [5], [4], [0], [5], [4], [3], [2], [2], [0, 4], [2, 5], [9], [4], [8], [8], [6], [0], [6], [1], [7], [0], [4], [3], [8], [5], [9], [7], [4, 6], [4], [1], [0], [2], [3], [5], [6], [7], [1], [6], [2, 9], [8], [3], [5], [2], [5], [7], [5], [7], [7], [1], [7], [4], [0], [3], [4], [0], [4], [2], [7], [0], [2, 5], [2], [6], [6], [2, 9], [5], [2, 6], [6], [0], [6], [1], [5], [9], [0], [0], [1], [3], [5], [1], [6], [7], [8], [4, 8], [6], [3], [3], [6], [0], [9], [9], [2], [2], [6], [1], [4], [6], [2], [5], [7], [8], [8], [3], [6], [3], [0], [2], [3], [4], [4], [4], [8], [9], [2], [6], [0], [9], [7], [9], [8], [7], [7], [3], [8], [2], [9], [3], [0, 3, 4, 7], [7], [5], [8], [7], [3], [7], [0, 4], [7], [1], [6], [2], [4, 7], [3], [0], [2], [9], [1], [2], [8], [0, 4], [4], [5], [2, 5], [0], [1], [2], [9], [6], [1], [0], [1], [0, 8], [6], [5], [0], [5], [7], [4], [0, 4], [8], [3], [5], [3], [7], [2], [5, 7], [8], [3], [5], [7], [3], [4, 7], [0], [5], [4], [5], [2, 6], [9], [3], [5], [4], [8], [2], [4], [2], [2, 9], [4, 6], [7], [6], [0], [5], [5], [8], [4, 7], [5], [6], [1], [3], [5], [4], [7], [3], [0], [7], [2], [8], [1], [2], [4], [9], [6], [4], [5], [9], [7], [4, 7], [2], [7], [4], [3], [1], [6], [9], [4], [8], [0], [5], [9], [4, 6], [4], [4], [3], [1], [4], [6], [3], [0], [8], [9], [7], [6], [9], [4], [2, 6, 8], [1], [2], [5], [9], [0, 4], [7], [1], [4], [5], [0, 4], [1, 9], [3], [6], [4], [7], [1], [5], [9], [4], [1], [0, 4], [2, 8], [7], [7], [0], [0, 4], [5], [4], [6], [7], [7], [2, 5], [4], [4], [4], [3], [6], [6], [1], [9], [9], [7], [9], [4], [3], [2], [9], [8], [5], [0], [6], [9], [0], [9], [7], [8], [5], [4], [4], [9], [4], [2, 6], [6], [6], [9], [9], [7], [9], [9], [0], [5], [1], [1], [0, 8], [6], [9], [9], [5], [6], [5], [5], [9], [7], [9], [4], [5], [4], [3], [3], [9], [8], [0, 8], [5], [7], [8], [4, 7], [0], [2], [0], [7], [2], [8], [0, 9], [2], [0], [7], [4], [0], [6], [2], [3], [1, 9], [4, 7], [4], [6], [3], [0], [4], [9], [5], [6], [6], [3], [0], [3, 5], [2], [4, 6], [3], [3], [0], [0], [8], [5], [4], [2], [9], [5], [0], [5], [4], [1, 8], [2], [1, 8], [6], [2], [7], [8], [2], [0], [1], [8], [2], [4], [8], [4], [3], [0], [4], [0], [1], [9], [3], [0], [3], [4, 6], [5], [5], [2], [8], [3], [0], [9], [4], [5], [2], [4], [3], [7], [0], [2], [3], [1], [0], [0], [6], [1], [2], [1], [4], [2, 6], [7], [1], [0], [5], [2], [5], [9], [2, 9], [5], [6], [7], [1], [9], [3], [6], [1], [0], [2], [9], [4], [2], [9], [4], [8], [2], [9], [8], [5], [1], [0], [1], [5], [2], [5], [6], [8], [0, 8], [3], [2, 5], [0], [0, 4], [1], [3], [7], [0], [3], [4], [9], [2], [3], [9], [9], [8], [5], [9], [5], [5], [1, 2, 3, 9], [9], [4], [7], [1], [3], [6], [4, 7], [4], [8], [9], [0], [7], [1], [2], [4], [2, 9], [3], [7], [5], [1], [1, 8], [3], [5], [2], [4], [1], [1], [5], [3], [9], [2], [5], [0, 8], [8], [8], [1], [5], [1], [5], [9], [0], [9], [2], [4], [0], [6], [9], [1], [1], [3], [3], [9], [5], [3], [3], [2, 6], [3], [4], [1], [2, 3], [9], [8], [7], [2, 5], [8], [7], [3], [5], [2], [5], [2, 8], [2, 9], [7], [2], [0], [0], [7], [5], [3], [5], [7], [4, 7], [6], [2], [8], [2, 6], [7], [2, 6], [6], [1], [3], [8], [6], [2, 9], [0], [4], [2, 4], [8], [2], [4], [0], [2, 9], [5], [4], [1], [2], [4], [4], [6], [9], [2], [0], [5], [2], [2], [8], [2], [4, 6], [4], [7], [9], [5], [7], [2], [2, 6], [2], [1], [9], [9], [7], [2], [5], [1], [2, 8], [1], [6], [3], [0], [8], [8], [5], [6], [9], [9], [9], [6], [3], [0], [8], [8], [5], [3], [4], [1], [1], [0], [7], [0], [4, 6], [0], [4], [4], [2, 6], [5], [3], [2], [9], [6], [6], [7], [9], [7], [7], [0, 4], [8], [4], [2], [7], [7], [7], [4], [0], [1, 8], [6], [0], [5], [3], [2], [2], [4], [9], [7], [3, 6], [3], [2], [8], [8], [5], [3], [8], [0], [8], [0], [0], [0], [2], [2], [7], [0], [7], [7], [7], [2], [2], [0], [4], [0], [2], [7], [8], [4], [7], [9], [6], [9], [1], [6], [9], [3], [8], [9], [5], [1, 8], [3], [1, 9], [4, 5], [3], [7], [5], [5], [2, 9], [3, 7], [5], [7], [9], [6], [3], [0, 8], [8], [4, 6], [5], [6], [1], [0, 8], [7], [8], [4], [7], [1], [3], [2], [0], [9], [1], [8], [9], [6], [8], [1], [7], [1], [0], [1], [7], [6], [4], [4], [8], [2], [1], [2], [6], [8], [1], [1], [8], [8], [8], [9], [0], [0], [5], [3], [3], [5], [6], [2, 6], [3], [1], [4], [4], [7], [8], [0], [1], [2, 6], [8], [4], [6], [2], [2], [2, 9], [6], [3], [4], [0], [8], [1], [3], [2, 8], [3], [8], [1, 8], [1], [6], [1], [9], [8], [2], [0], [4], [7], [4], [0], [2], [7], [6], [8], [9], [1], [6], [2], [8], [8], [4], [1], [1], [0], [7], [0, 4], [2], [4, 6], [7], [7], [2], [6], [6], [7], [4], [5], [2, 3, 8], [0], [9], [2, 5], [7], [2], [5], [2, 6], [2], [2], [3, 7], [6], [2, 6], [6], [4], [1], [4, 6], [8], [3], [8], [5], [5], [2], [3], [4], [5], [0, 4], [7], [2, 3, 5], [1], [5], [3], [7], [8], [8], [9], [0, 2, 9], [0], [8], [2], [6], [0], [0, 8], [1], [4], [1], [3], [5], [1], [2, 6, 8], [9], [6], [4], [6], [9], [5], [6], [5], [9], [1], [4], [2], [8], [9], [5], [4], [7], [0, 3, 8], [3], [7], [1], [6], [9], [1], [1, 9], [4], [0], [5], [1], [6], [3], [8], [2], [5], [2, 5], [5], [2], [8], [2, 9], [2, 3, 6], [1], [6], [2, 6], [7], [0], [8], [9], [2], [6], [4], [7], [5], [5], [8], [8], [7], [8], [5], [7], [4], [4], [0], [0], [7], [0], [4], [0], [4], [4], [2], [3], [4], [0], [7], [0, 4, 7], [7], [0], [4], [6], [2], [0, 2, 7, 9], [1], [1], [5], [0, 8], [9], [1], [0], [6], [5], [3], [0], [9], [0], [6], [2], [2], [4], [1], [6], [7], [6], [1], [0], [4], [6], [0], [4], [4], [2], [7], [6], [4], [3], [5], [9], [4, 6], [5], [2], [0], [5], [7], [2], [3], [9], [4], [5], [0, 8], [1], [9], [3], [1, 9], [8], [5], [8], [6], [6], [3], [4], [0], [3], [3], [2], [6], [1], [8], [2], [1], [5], [6], [3], [2], [3], [3], [5], [0], [2], [1], [2], [8], [0], [8], [2], [2], [7], [3], [7], [9], [8], [3], [6], [1], [0, 2, 9], [8], [6], [7], [5], [8], [9], [4], [8], [0], [0], [2], [0, 9], [1], [8], [3], [7], [2], [8], [0, 4], [9], [3], [8], [9], [2, 6], [8], [9], [5], [4], [8], [9], [5], [5], [7], [2], [5], [8], [2, 8], [1], [2], [3], [1], [5], [0, 9], [2], [3], [0], [8], [2], [2], [8], [7], [3], [5], [2, 6], [9], [6], [3], [5], [1], [1], [7], [7], [2, 9], [3], [8], [0, 2, 9], [6], [0], [8], [0], [3], [6], [4], [6], [9], [1], [1], [7], [0], [6], [2, 8], [9], [0, 9], [6], [1], [0], [1], [1], [7], [2], [1], [0], [4], [5], [0], [3], [6], [3], [3], [8], [1], [8], [1], [6], [1], [3, 5], [4], [5], [1], [8], [9], [9], [3], [1], [7], [0, 2], [9], [8], [9], [4], [6], [0], [9], [4], [0], [4], [4, 6], [2], [1], [1], [0], [8], [5], [6], [0], [3], [4], [6], [9], [0, 3, 4], [7], [9], [0], [3], [6], [5], [3], [8], [5], [1], [2], [2], [9], [7], [0], [0], [1], [4], [4], [5], [5], [9], [6], [3], [6], [2], [6], [9], [3], [3], [3], [2, 9], [4, 5], [9], [2, 5], [2], [1], [6], [6], [4], [7], [6], [3], [4, 6], [8], [1], [4], [6], [4], [4], [5], [6], [2, 5], [0], [5], [2], [3], [5], [2], [5], [2], [5], [9], [0], [2, 6], [7], [9], [8], [5], [2], [1], [4], [2, 5], [4], [5], [5], [6], [8], [6], [0], [0], [9], [2], [0], [7], [7], [6], [2], [0, 3, 7], [5], [9], [8], [5], [9], [5], [3], [0, 4], [4], [0, 8], [2, 6], [3], [9], [1], [3], [9], [8], [3], [7], [4], [4], [0, 8], [2], [1], [9], [1], [2], [6], [8], [4], [7], [3], [1], [4], [3], [3], [1], [0], [8], [8], [8], [8], [1], [4], [7], [3], [1, 8], [6], [9], [1], [6], [0], [7], [7], [1], [3], [3], [3], [1], [0], [2], [7], [1], [2], [2], [1, 9], [6], [3], [5], [9], [4], [8], [0], [4], [0, 8], [0], [1, 9], [2, 3], [5, 7], [2], [4], [0, 4], [0], [8], [6], [4], [3], [9], [2, 8], [2], [2], [8], [3], [1], [1], [2], [8], [2], [6], [9], [6], [8], [0, 3, 7], [4], [1], [5], [2], [6], [9], [0], [0], [7], [1], [8], [9], [3], [9], [9], [0], [7], [7], [3], [4], [2], [6], [4], [5], [7], [7], [8], [7], [2], [6], [2], [2], [4], [4], [0], [7], [1], [2, 5], [9], [6], [0], [0], [3], [0, 3], [8], [0, 4], [2], [4], [3], [5], [0], [9], [1], [0], [0], [6], [5], [0], [7], [9], [9], [6], [5], [5], [8], [2, 5], [7], [1], [6], [2, 6], [4], [1], [2], [4], [1], [5], [0], [0], [4], [3, 5], [8], [2], [8], [3], [0], [2, 5], [0], [5], [7], [1], [6], [7], [0, 8], [9], [1], [5], [7], [6], [5], [5], [3, 7], [6], [0], [0], [1], [7], [3], [1], [9], [2], [4], [1], [3, 6], [7], [8], [0], [0, 8], [9], [6], [2, 6, 9], [0], [2, 6], [2, 6], [8], [2], [7], [7], [0], [2], [7], [7], [8], [8], [7], [0, 2, 9], [3], [9], [1], [4], [4], [5], [2, 4, 5], [4], [6], [2], [3], [1], [0], [3], [3], [3], [6], [5], [1], [2], [8], [0, 9], [7], [9], [3], [8], [7], [3, 4], [1], [7], [7], [3], [2], [2], [0, 8], [9], [5], [9], [2], [1], [7], [4], [4], [0], [5], [0, 7], [1], [5], [4], [2], [8], [4], [9], [8], [7], [8], [0, 4], [2], [3], [4], [0], [5], [4], [1], [8], [2], [5], [4], [5], [2], [5], [3], [7], [9], [5], [1], [0, 4, 5], [9], [3], [1], [4], [5], [5], [1], [7], [1], [7], [0], [1], [9], [5], [7], [0], [6], [3], [5], [7], [5], [5], [8], [9], [4], [6], [3], [6], [6], [8], [2], [6], [4], [8], [4], [1], [3], [9], [2], [3], [2, 3, 5], [0], [1], [6], [0, 4], [2], [8], [2], [4], [4], [1], [4], [4], [4], [4], [1], [5], [5], [0], [2, 6], [5], [4], [5], [6], [5], [6], [2], [4], [7], [2, 9], [4], [6], [5], [0], [2], [3], [9], [2], [3], [8], [0], [7], [0], [6], [8], [1], [2], [8], [9], [1], [5], [4], [2], [3], [5], [5], [2, 6, 8], [2, 6], [5], [0], [3], [2, 5, 7], [1], [3], [3], [7], [7], [4], [9], [4], [5], [9], [5], [1], [7], [6], [6], [2], [8], [5], [1], [2, 5], [8], [4, 6], [3], [3], [5], [3], [0, 9], [4], [8], [7], [2, 9], [9], [2, 3, 5], [8], [4], [4], [9], [1], [0], [3], [1, 8], [3], [8], [0], [5], [5], [4], [2], [9], [2], [7], [2], [0], [7], [2, 6], [9], [7], [5], [0], [7], [0], [3], [5], [3], [3], [8], [7], [7], [1], [6], [2, 9], [8], [9], [0], [1], [1, 9], [4], [0], [0], [1], [7], [2], [2, 5], [8], [5], [9], [1], [2], [8], [0], [6], [6], [8], [6], [9], [2, 5], [1], [1], [5], [3], [5], [0], [7], [6], [1], [4], [4], [1], [1], [8], [1], [1], [2], [3], [4], [9], [9], [3, 5], [2], [7], [2], [3], [6], [1], [2, 6], [9], [8], [8], [6], [7], [4], [7], [2], [3], [8], [0], [9], [0, 9], [7], [8], [1], [2], [3], [0, 2], [2], [2], [9], [0], [4, 7, 8], [8], [9], [6], [5], [5], [2], [4], [1], [0, 9], [6], [1], [1, 8], [4], [5], [6], [5], [0], [8], [9], [0], [5], [7], [9], [6], [5], [4], [6], [4], [9], [3], [1], [0], [5], [2], [1], [0], [3], [2], [9], [8], [1], [9], [7], [7], [3], [1], [4], [1], [9], [3], [2, 8], [8], [1], [9], [3], [8], [9], [5], [1], [1], [6], [2, 9], [7], [2], [6], [4], [6], [9], [6], [0], [1], [2, 3, 5], [9], [3, 7], [8], [2, 8], [0, 8], [2], [9], [1], [6], [6], [0], [5], [0], [7], [4], [7], [9], [4], [5], [0], [0], [3], [5], [3], [8], [9], [1], [2], [7], [1], [3], [3], [6], [9], [1], [0], [7], [1], [9], [5], [8], [1], [9], [1], [7], [9], [1, 8], [5], [0], [2, 9], [6], [9], [2], [2], [4], [0], [8], [4], [8], [1], [7], [7], [2], [7], [9], [5], [2], [2], [9], [2], [6], [5], [7], [2], [5], [6], [5], [1], [8], [2], [6], [8], [6], [5], [0], [8], [0], [0], [9], [2, 9], [2], [8], [0, 8], [6], [6], [0], [7], [9], [8], [0], [5], [0], [9], [6], [0], [4], [7], [1], [7], [8], [8], [2], [3], [9], [3], [5], [5], [3], [1], [5], [3], [0], [2], [5], [2], [7], [3], [8], [4], [4], [6], [1], [9], [4, 6], [1], [7], [0], [1], [4], [5], [0], [2], [9], [4], [5], [0], [3], [4], [7], [2], [3], [0], [1], [4], [7], [9], [9], [0], [7], [5], [2, 6], [7], [1], [2, 6], [3], [7], [3], [6], [8], [4, 6], [9], [8], [4], [9], [2], [3], [4], [0], [2], [3], [6], [0], [5], [3], [5], [8], [3], [4], [4], [9], [5], [6], [3], [8], [2, 6], [1], [8], [5], [5], [8], [6], [5], [9], [0], [4], [2, 5], [0], [5], [9], [9], [3], [8], [0], [6], [0], [2], [3], [7], [8], [2, 9], [6], [9], [1], [5], [2], [2], [7], [9], [3], [9], [3], [5], [2], [2], [2], [8], [8], [5], [0], [0], [7], [0], [3], [1], [6], [5], [0], [9], [2], [6], [7], [4], [0, 2, 9], [0], [0], [7], [2], [3], [2], [4, 6], [4], [2], [7], [8], [0], [1], [0], [1], [3], [6], [4], [8], [0], [6], [0], [9], [1], [6], [2, 5], [1], [0], [1], [3], [0], [4], [7], [9], [9], [3], [7], [2, 5], [7], [1], [6], [6], [9], [1], [1], [4], [0, 4], [2], [1], [7], [0], [1], [2], [1], [1], [3], [2], [6], [9], [1], [3], [2], [0, 2, 9], [0], [7], [3], [4], [6], [4], [6], [9], [4], [8], [9], [2, 3, 5], [0], [5], [7], [2], [2], [2], [2, 9], [9], [2], [8], [7], [1], [1], [2], [2], [2], [2], [9], [1], [2], [6], [1], [2, 6], [1], [8], [9], [2], [2, 3], [1], [9], [9], [3], [4], [5], [2, 5], [0], [3], [2, 5], [7], [1], [7], [7], [1], [8], [1, 9], [3], [5], [5], [1], [6], [2], [0, 2, 9], [8], [4], [3], [3], [5], [9], [8], [8], [5], [1], [0], [6], [7], [0], [9], [6], [0], [0], [8], [7], [1], [2], [6], [9], [1], [6], [4], [7], [1], [0, 2, 7, 9], [0], [0], [3], [2], [8], [3], [8], [4], [8], [4], [0], [8], [3], [3, 6], [1], [2, 5], [3], [0], [5], [0], [4], [1], [7], [2], [0], [1], [3], [9], [1], [6], [1], [6], [1], [2], [8], [7], [0], [9], [5], [0, 4], [0], [0], [1], [7], [9], [7], [1], [9], [2], [1], [9], [0, 4, 7], [3], [6], [0], [2], [0], [0], [9], [2, 3, 9], [8], [9], [4], [5], [4], [3], [0], [7], [8], [7], [3], [7], [3], [4], [6], [5], [9], [3], [2], [4], [2, 5], [7], [9], [6], [7], [0, 4], [7], [1], [2], [3], [1], [9], [3], [6], [8], [3], [7], [7], [0], [8], [1], [5], [2], [2, 5], [3], [3], [6], [3], [3], [9], [8], [4], [2, 6, 8], [8], [0], [0, 4], [1], [7], [8], [4], [9], [5], [2], [6], [2, 6], [8], [8], [6], [7], [3], [8], [1], [1], [5], [3], [7], [9], [9], [9], [8], [5], [9], [9], [6], [8], [8], [4], [8], [1], [0, 4], [1], [8], [8], [6], [5], [9], [0], [6], [1], [6], [6], [6], [2], [5], [6], [5], [3], [3], [3], [6], [8], [9], [4], [4], [3], [8], [5], [6], [0, 8], [8], [5], [7], [8], [4], [2, 6], [5], [3], [1], [8], [3], [0, 8], [0, 4], [0, 3, 4, 7], [0, 8], [3], [5], [3], [3], [2], [7], [7], [2, 8], [4], [0], [5], [3], [6], [1], [1], [3], [9], [9], [3], [6], [7], [1], [8], [3], [9], [2, 5], [7], [8], [8], [0], [3], [2], [4], [8], [7], [2, 5], [7], [1], [8], [7], [3], [2], [4], [4], [3], [8], [6], [1], [1], [6], [3], [2, 3, 6], [2], [8], [9], [8], [3], [3], [1, 8], [1], [1], [0], [5], [2], [0], [5], [0], [5], [0], [6], [3], [1], [6], [6], [3], [0, 9], [4], [8], [3], [0, 4], [5], [1], [1], [2], [9], [2, 7, 9], [8], [5], [5], [8], [4, 6], [9], [0], [8], [0], [3], [1], [2], [3], [3], [5], [3], [8], [0, 2, 9], [4], [6], [4], [2], [4], [3], [8], [9], [6], [2, 6], [6], [3], [5], [2], [7], [7], [4], [4], [9], [5], [8], [3], [7], [7], [8], [5], [3], [9], [1], [6], [2, 3, 4, 5], [3], [3], [3], [8], [5], [6], [1], [3], [7], [9], [6], [1], [6], [4], [0, 9], [0], [5], [7], [4], [9], [1], [2, 6], [0], [2], [7], [8], [7], [2, 5], [9], [6], [1], [6], [6], [4], [2, 6], [2], [1], [8], [4], [4], [0, 4], [8], [3, 5], [8], [9], [4], [3], [2], [3], [1], [3], [0], [1], [1], [1], [1], [6], [8], [5, 7], [1], [3], [0], [4], [7], [0], [5], [0], [6], [2], [0], [9], [8], [2, 6], [8], [3], [8], [2, 6], [0, 4], [2, 6], [0], [6], [1], [8], [7], [6], [2], [2], [6], [5], [2, 6], [9], [2], [3, 4, 5], [4], [9], [8], [5], [3], [9], [3], [5], [7], [1], [8], [5], [8], [6], [0, 4, 7], [5], [1], [3], [0], [4], [1, 9], [9], [7], [4], [9], [2], [1], [4], [4], [5], [9], [8], [7], [2], [1], [6], [9], [7], [3], [6], [0], [8], [0, 8], [2], [0], [4], [9], [0, 4], [5], [3], [4], [3], [3], [1], [0], [0, 4], [0], [4], [4], [2, 9], [1], [3], [2, 8], [0], [2], [1], [1], [0], [4], [1], [9], [4], [8], [1], [1], [1], [5], [9], [0, 8], [1], [6], [7], [2], [9], [9], [7], [8], [8], [1], [0, 2, 9], [7], [8], [0, 2, 9], [1], [6], [6], [3], [3], [1], [3], [0, 8], [8], [8], [3], [2, 6], [6], [7], [9], [0], [7], [6], [4], [1, 8], [2], [0], [6], [3], [0, 8], [6], [2, 5], [1], [1], [8], [6], [7], [0], [5], [4], [3], [2], [1], [7], [8], [2], [0], [1], [7], [4, 8], [8], [7], [6], [6], [7], [0], [0], [4], [9], [0], [6], [2, 5], [1], [3], [8], [6], [1, 8], [1], [9], [6], [7], [6], [5], [0, 9], [6], [0], [1], [3], [1], [1], [5], [3], [4], [3], [3], [8], [1], [6], [6], [1], [8], [8], [6], [2], [7], [4], [6], [8], [9], [3], [2, 5], [4], [5], [3], [1], [4], [1], [2, 9], [5], [1], [7], [7], [4, 7], [5], [2], [8], [2], [6], [6], [6], [4], [0], [7], [1], [7], [2, 3, 6], [0], [3], [1], [0, 4], [4], [1], [2], [2], [4], [9], [2, 8], [2], [8], [5], [6], [3], [4], [7], [3], [3], [1], [5], [3], [0], [4], [3], [4], [9], [4], [7], [9], [1], [7], [8], [3], [1], [8], [3], [2], [5], [7], [2], [7], [9], [6], [8], [6], [8], [6], [5], [9], [0], [4], [8], [5], [6], [6], [2, 5], [8], [0], [4], [8], [6], [7], [2], [2], [1], [7], [4], [1], [2], [0, 4], [2], [2], [8], [7], [2], [2], [5], [7], [7], [6], [8], [9], [9], [5], [5], [2], [9], [8], [7], [2], [0, 2, 4, 7], [3], [7], [4, 7], [3], [2], [1], [9], [3, 8], [1], [5], [3], [2], [6], [3], [9], [1], [5], [4], [3], [6], [2, 9], [0, 4], [9], [7], [8], [0], [8], [9], [1], [2], [5], [7], [2], [0], [2, 6], [6], [1], [2, 6], [4], [0], [5], [0], [0], [5, 7], [4], [6], [5], [6], [4], [8], [3], [0, 4], [5], [5], [0, 4], [6], [6], [7], [3], [0], [9], [9], [6], [1], [0], [4], [6], [2, 5], [0], [9], [2, 6], [6], [6], [3], [2], [1, 2, 8, 9], [0], [1], [9], [1, 2, 9], [7], [2], [3], [0], [2], [7], [6], [4], [2, 3], [0], [8], [2, 3], [0], [0], [9], [6], [6], [6], [8], [4, 7], [4], [1], [8], [1], [2], [2], [4], [8], [5], [2], [6], [5], [7], [9], [1], [0], [7], [2], [2], [4], [0], [0], [4], [2], [2], [4], [0], [4, 5, 7], [9], [4], [1], [8], [4, 7], [5], [5], [9], [0, 8], [5], [7], [8], [0, 9], [9], [8], [9], [1], [6], [3], [8], [0], [3], [4], [4], [8], [4], [8], [9], [8], [6], [0], [0], [8], [2], [0], [4], [2], [7], [6], [0], [5], [8], [0, 4], [1], [9], [0], [1], [4], [4], [8], [4], [9], [6], [0], [0, 4, 7], [4], [6], [8], [9], [6], [2], [0, 8], [4], [9], [4], [9], [3], [9], [2, 5], [6], [7], [0], [9], [7], [1, 8], [8], [4, 6], [0], [6], [4], [4], [1], [9], [2], [6], [7], [9], [8], [3], [9], [2], [1], [2], [7], [4], [1], [0], [0], [2, 3, 5], [6], [0], [4], [3], [2, 5], [8], [2, 8], [0], [6], [9], [5], [2], [8], [7], [8], [6], [5], [9], [4], [2], [4], [6], [9], [6], [2], [2], [4], [1], [0], [5], [9], [8], [9], [3], [5], [9], [3], [8], [1], [6], [3], [7], [3], [6], [2], [0], [2], [8], [2], [8], [2, 7], [7], [8], [1], [0], [4, 8], [9], [7], [0], [3], [8], [0], [5], [9], [5], [8], [2, 5], [2], [0], [9], [2], [4], [4], [4], [9], [2], [2, 9], [5], [3], [1], [3], [2], [0], [0], [4], [9], [6], [3], [8], [2, 9], [5], [8], [6], [4, 7], [8], [2, 5], [3], [9], [7], [9], [7], [1], [2], [1], [9], [6], [9], [2], [7], [9], [4, 6], [4], [0], [6], [2], [4, 7], [1], [2, 5], [7], [2], [8], [5], [9], [0], [3], [2], [3], [2], [7], [6], [3], [2], [5], [9], [0, 8], [5], [1], [9], [8], [7], [7], [4], [8], [6], [3], [2], [3], [1], [0], [4], [1], [8], [8], [4], [9], [4], [4], [4], [3], [9], [2], [0], [1], [1], [1, 8], [4], [4], [8], [3], [6], [9], [5], [7], [2, 6], [2, 6], [5], [4], [7], [3], [3], [2, 9], [0], [1], [5], [9], [5], [7], [6], [0], [4], [2], [2], [5], [6], [3], [8], [9], [5], [6], [1], [4], [5], [4], [6], [7], [2], [1], [0, 9], [2], [0], [0, 4], [9], [8], [8], [9], [1], [1], [5], [0], [0], [8], [7], [1], [7], [4], [5], [4], [3], [3], [2], [0], [6], [2, 6], [0], [1], [3], [9], [8], [3], [7], [8], [0, 2, 9], [4], [8], [9], [0], [9], [7], [1], [2, 6], [2, 5], [9], [5], [2, 6], [9], [2, 3, 5], [9], [8], [7], [7], [1], [6], [8], [3], [9], [3], [1, 8], [2], [5, 7], [1], [8], [2], [0], [9], [7], [9], [8], [8], [6], [7], [3], [7], [1], [3], [9], [0], [9], [2, 5], [6], [7], [2, 9], [3], [3], [0], [5], [9], [7], [3], [5], [0], [6], [5], [1], [8], [2], [7], [3], [9], [0], [0], [2], [0], [8], [7], [3], [7], [8], [9], [3], [7], [9], [7], [8], [7], [9], [8], [5], [4], [0, 8], [3, 7], [7], [2], [3], [8], [2], [1], [9], [3, 4], [2, 3, 7, 8], [3], [9], [5], [5], [8], [7], [3], [5], [3], [5], [9], [7], [6], [2], [3], [6], [4], [5], [9], [4], [2], [1], [9], [2, 6], [0], [2, 5], [6], [4, 7], [4, 7], [7], [9], [0], [7], [4], [3], [5], [3], [1], [1], [2], [6], [8], [2, 6], [1], [7], [8], [5], [9], [6], [1], [8], [5], [0], [6], [0], [9], [2], [6], [5], [8], [9], [2, 5], [5], [6], [2, 5], [9], [1], [2, 5], [1], [8], [7], [1], [7], [4], [2], [4, 7], [9], [7], [5], [2], [9], [9], [4], [3], [2], [1], [3], [0, 8], [7], [9], [0], [4], [5], [7], [5], [2, 6], [8], [7], [2, 6], [9], [6], [9], [3], [8], [5], [6], [6], [9], [5], [7], [8], [0], [3], [0], [7], [4], [8], [2], [5], [1, 9], [3], [2], [2], [6], [4], [1], [2, 7, 9], [4], [4, 6], [5], [1], [3], [7], [2, 5], [1, 2, 6, 9], [3], [7], [0], [8], [4], [4], [5], [7], [2, 9], [5], [4, 7], [3], [1], [6], [8], [0, 2, 9], [3], [3], [1], [6], [1], [7], [0], [3], [4, 6], [2], [9], [4], [5], [8], [7], [7], [0], [9], [4, 6], [8], [0], [2, 8], [2], [8], [5], [7], [7], [2], [2], [0], [0, 8], [0], [7], [4], [1], [6], [6], [8], [8], [9], [0], [9], [0], [1], [3], [3, 4, 6], [0], [9], [2, 6, 8], [6], [4], [6], [3], [4], [0, 8], [8], [4], [1], [4], [0], [6], [3], [0, 9], [9], [9], [1], [9], [1], [2], [2, 5], [5], [4], [2], [9], [2, 6], [0], [2, 9], [6], [6], [8], [0], [6], [1], [4], [6], [1, 8], [0], [5], [4], [1], [2], [0], [9], [6], [4], [2], [4], [6], [5], [9], [7], [7], [4], [6], [2, 5], [0], [1, 9], [2, 9], [0], [3], [5], [9], [0], [9], [7], [8], [6], [7], [6], [8], [2, 5], [4], [5], [3], [0], [3], [2, 6], [1], [7], [5], [9], [3], [4], [5], [3], [1], [5], [0], [1], [1], [1], [9], [5], [5], [4], [9], [7], [8], [1], [0], [2, 9], [8], [5], [6], [7], [0], [6], [4], [8], [4], [4], [6], [6], [3, 7], [8], [1], [8], [4], [6], [5, 7], [9], [2], [2], [1], [4], [9], [1], [6], [7], [2], [0], [1], [2, 6], [6], [5], [2], [2], [5], [4, 6], [0], [0, 9], [0], [1], [5], [3], [3], [5], [8], [7], [2, 3, 5], [6], [3, 5], [8], [0], [3], [9], [4], [6], [5], [1], [1], [0], [5], [3], [9], [4], [8], [1], [7], [7], [9], [9], [4, 7], [2, 6, 8], [6], [3], [2], [8], [2], [7], [2, 6], [7], [0], [2, 9], [1], [2], [9], [2], [2, 9], [9], [3], [1], [0], [1], [8], [7], [0, 9], [0], [2, 5], [7], [4], [3], [4], [9], [5], [9], [0], [7], [4], [5], [8], [1], [4], [7], [9], [9], [8], [8], [2, 6, 8], [3], [7], [0], [1, 8], [9], [2, 6], [2], [2], [3], [2], [9], [7], [7], [2, 6], [8], [5], [6], [1], [3], [5], [0, 9], [9], [1], [3], [0, 2, 9], [0], [3], [0], [2], [0], [7], [2, 6], [9], [2, 5], [5], [7], [6], [5], [9], [5], [6], [1], [0, 2], [4], [0], [2], [7], [8], [4], [4], [0], [9], [5], [9], [4], [9], [3], [2], [5], [3], [2, 5], [2], [8], [8], [6], [0], [1], [6], [2, 8], [0], [8], [5], [0], [4], [9], [1], [5], [7], [1], [2, 6], [0], [1], [5], [2], [8], [1], [1], [3], [8], [1], [8], [1], [8], [5], [1], [1], [0], [5], [0], [4], [0], [3], [1], [4], [0], [4], [9], [5], [1], [2, 6], [2], [7], [8], [7], [2], [4], [5], [3], [7], [0], [4], [1], [5], [9], [8], [0], [2], [0], [4, 7], [6], [0], [4, 6], [9], [7], [5], [8], [4], [6], [0], [6], [0, 2, 9], [6], [8], [1], [1], [8], [9], [7], [2], [9], [0], [2], [2], [9], [0], [2, 6], [5], [3, 7], [7], [9], [1], [7], [9], [8], [4], [5], [0], [8], [0], [0, 4, 7], [5], [2], [1], [4], [4], [8], [9], [7], [8], [2], [6], [6], [0], [1], [1], [1], [8], [1], [4], [4], [0], [7], [8], [2], [1], [2], [5], [0, 4, 7], [6], [0], [5], [7], [4], [4], [3], [9], [5], [8], [8], [0], [0, 8], [7], [4], [1], [8], [4], [9], [5], [4, 6], [1], [7], [7], [7], [7], [0], [3], [8], [4, 6], [3], [0], [5], [4], [0], [8], [0], [0, 9], [9], [2], [0], [3], [4], [8], [2], [2], [6], [4], [5], [2, 6], [2], [9], [4], [0], [1], [7], [5], [5], [7], [3], [0], [4], [2, 6], [0], [7], [2, 5], [8], [0], [8], [4], [7], [0], [3], [5], [3], [0, 8], [3], [5], [1], [7]]\n",
      "[0.88652773]\n"
     ]
    }
   ],
   "source": [
    "resutls = tf.argmax(model_e_imprecise.predict(x_test),-1)\n",
    "imprecise_results =[]\n",
    "for i in range(len(resutls)):\n",
    "  act_local = resutls[i]\n",
    "  set_valued_results = act_set[act_local]\n",
    "  imprecise_results.append(set_valued_results)\n",
    "print (imprecise_results)\n",
    "average_utility_imprecision = AU_imprecision.average_utility(utility_matrix, resutls, y_test_label, act_set)\n",
    "print (average_utility_imprecision)"
   ]
  },
  {
   "cell_type": "code",
   "execution_count": 16,
   "metadata": {
    "colab": {
     "base_uri": "https://localhost:8080/",
     "height": 965
    },
    "executionInfo": {
     "elapsed": 76190,
     "status": "ok",
     "timestamp": 1617950153589,
     "user": {
      "displayName": "童峥",
      "photoUrl": "",
      "userId": "08916676345838244430"
     },
     "user_tz": -120
    },
    "id": "BQZ0h_v9P_Vd",
    "outputId": "0f2aa1b3-a008-4654-c365-4d9775fcf0ad"
   },
   "outputs": [
    {
     "name": "stdout",
     "output_type": "stream",
     "text": [
      "lable:  [6]\n",
      "prediction:  [2, 6, 9]\n"
     ]
    },
    {
     "data": {
      "image/png": "[encoded data removed]",
      "text/plain": [
       "<Figure size 432x288 with 1 Axes>"
      ]
     },
     "metadata": {
      "needs_background": "light",
      "tags": []
     },
     "output_type": "display_data"
    },
    {
     "name": "stdout",
     "output_type": "stream",
     "text": [
      "lable:  [7]\n",
      "prediction:  [3, 7]\n"
     ]
    },
    {
     "data": {
      "image/png": "[encoded data removed]",
      "text/plain": [
       "<Figure size 432x288 with 1 Axes>"
      ]
     },
     "metadata": {
      "needs_background": "light",
      "tags": []
     },
     "output_type": "display_data"
    },
    {
     "name": "stdout",
     "output_type": "stream",
     "text": [
      "lable:  [2]\n",
      "prediction:  [2, 4, 7]\n"
     ]
    },
    {
     "data": {
      "image/png": "[encoded data removed]",
      "text/plain": [
       "<Figure size 432x288 with 1 Axes>"
      ]
     },
     "metadata": {
      "needs_background": "light",
      "tags": []
     },
     "output_type": "display_data"
    }
   ],
   "source": [
    "import matplotlib.pyplot as plt\n",
    "from skimage.io import imread, imshow\n",
    "imshow(x_test[7])\n",
    "print ('lable: ',y_test_label[7])\n",
    "print ('prediction: ',imprecise_results[7])\n",
    "plt.show()\n",
    "imshow(x_test[20])\n",
    "print ('lable: ',y_test_label[20])\n",
    "print ('prediction: ',imprecise_results[20])\n",
    "plt.show()\n",
    "imshow(x_test[25])\n",
    "print ('lable: ',y_test_label[25])\n",
    "print ('prediction: ',imprecise_results[25])\n",
    "plt.show()\n",
    "#label_dict = {0:'airplane', 1:'automobile', 2:'bird', 3:'cat', 4:'deer',\n",
    "#              5:'dog', 6:'frog', 7:'horse', 8:'ship', 9:'truck'}"
   ]
  }
 ],
 "metadata": {
  "accelerator": "GPU",
  "colab": {
   "authorship_tag": "ABX9TyMYfee0cjy4zIMT62sgxVLT",
   "collapsed_sections": [],
   "name": "demo.ipynb",
   "provenance": []
  },
  "kernelspec": {
   "display_name": "Python 3",
   "language": "python",
   "name": "python3"
  },
  "language_info": {
   "codemirror_mode": {
    "name": "ipython",
    "version": 3
   },
   "file_extension": ".py",
   "mimetype": "text/x-python",
   "name": "python",
   "nbconvert_exporter": "python",
   "pygments_lexer": "ipython3",
   "version": "3.9.4"
  }
 },
 "nbformat": 4,
 "nbformat_minor": 1
}
